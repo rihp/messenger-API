{
 "cells": [
  {
   "cell_type": "markdown",
   "metadata": {},
   "source": [
    "# Set up the connection to MongoDB"
   ]
  },
  {
   "cell_type": "code",
   "execution_count": 1,
   "metadata": {
    "scrolled": true
   },
   "outputs": [
    {
     "name": "stdout",
     "output_type": "stream",
     "text": [
      "Connected to MongoClient at: mongodb://localhost:27017\n"
     ]
    }
   ],
   "source": [
    "from pymongo import MongoClient\n",
    "from mongohandler import *\n",
    "import requests\n",
    "from IPython.display import display, HTML\n",
    "from bson.son import SON\n",
    "import nltk\n",
    "from nltk.sentiment.vader import SentimentIntensityAnalyzer\n",
    "\n",
    "# IMPORTANT : Remember to start mongodb server\n",
    "# run $sudo systemctl start mongod\n",
    "# Also, start the api.py Flask server\n",
    "# $python3 api.py"
   ]
  },
  {
   "cell_type": "markdown",
   "metadata": {},
   "source": [
    "Hay que mover esta config a un config.py"
   ]
  },
  {
   "cell_type": "code",
   "execution_count": 2,
   "metadata": {},
   "outputs": [
    {
     "name": "stdout",
     "output_type": "stream",
     "text": [
      "Connected to MongoClient at: mongodb://localhost:27017\n"
     ]
    }
   ],
   "source": [
    "flask_api = 'http://localhost:5007'    \n",
    "\n",
    "DBURL = 'mongodb://localhost:27017'\n",
    "client = MongoClient(DBURL)\n",
    "print(f\"Connected to MongoClient at: {DBURL}\")\n",
    "db = client.messenger\n",
    "\n",
    "nltk.download('vader_lexicon')"
   ]
  },
  {
   "cell_type": "markdown",
   "metadata": {},
   "source": [
    "# Trying out our basic functions\n",
    "\n",
    "To use the Messenger API, we will only use the python built-in `requests` module. \n",
    "These all the MongoDB functions been defined in the `mongohandler` module."
   ]
  },
  {
   "cell_type": "code",
   "execution_count": 3,
   "metadata": {},
   "outputs": [],
   "source": [
    "import pandas as pd\n",
    "df = pd.read_csv('INPUT/RickAndMortyScripts.csv')\n",
    "df.head(3)"
   ]
  },
  {
   "cell_type": "markdown",
   "metadata": {},
   "source": [
    "### 1 - Create Users"
   ]
  },
  {
   "cell_type": "code",
   "execution_count": 5,
   "metadata": {
    "scrolled": false
   },
   "outputs": [
    {
     "name": "stdout",
     "output_type": "stream",
     "text": [
      "['Rick', 'Morty', 'Beth', 'Jerry', 'Summer']\n"
     ]
    }
   ],
   "source": [
    "usernames = [e for e in df.name.value_counts().index]\n",
    "print(usernames[:5])"
   ]
  },
  {
   "cell_type": "code",
   "execution_count": 6,
   "metadata": {
    "scrolled": false
   },
   "outputs": [
    {
     "name": "stdout",
     "output_type": "stream",
     "text": [
      "We have tried to create 48 users.\n",
      "Last recorded event : \n"
     ]
    },
    {
     "data": {
      "text/html": [
       "<b>Sorry. That username, 'summer_1' is already taken.</b> <br>Please choose a different username."
      ],
      "text/plain": [
       "<IPython.core.display.HTML object>"
      ]
     },
     "metadata": {},
     "output_type": "display_data"
    }
   ],
   "source": [
    "for user in usernames:\n",
    "    route = f'/user/create/{user}'\n",
    "    res = requests.get(flask_api+route)\n",
    "    \n",
    "print(f'We have tried to create {len(usernames)} users.')\n",
    "print(\"Last recorded event : \")    \n",
    "display(HTML(res.text)) # Last user created    "
   ]
  },
  {
   "cell_type": "markdown",
   "metadata": {},
   "source": [
    "### 2 - Create Public Chats"
   ]
  },
  {
   "cell_type": "code",
   "execution_count": 7,
   "metadata": {
    "scrolled": true
   },
   "outputs": [
    {
     "data": {
      "text/html": [
       "<div>\n",
       "<style scoped>\n",
       "    .dataframe tbody tr th:only-of-type {\n",
       "        vertical-align: middle;\n",
       "    }\n",
       "\n",
       "    .dataframe tbody tr th {\n",
       "        vertical-align: top;\n",
       "    }\n",
       "\n",
       "    .dataframe thead th {\n",
       "        text-align: right;\n",
       "    }\n",
       "</style>\n",
       "<table border=\"1\" class=\"dataframe\">\n",
       "  <thead>\n",
       "    <tr style=\"text-align: right;\">\n",
       "      <th></th>\n",
       "      <th></th>\n",
       "      <th>line</th>\n",
       "    </tr>\n",
       "    <tr>\n",
       "      <th>episode name</th>\n",
       "      <th>name</th>\n",
       "      <th></th>\n",
       "    </tr>\n",
       "  </thead>\n",
       "  <tbody>\n",
       "    <tr>\n",
       "      <th rowspan=\"5\" valign=\"top\">A Rickle in Time</th>\n",
       "      <th>All Mortys</th>\n",
       "      <td>15</td>\n",
       "    </tr>\n",
       "    <tr>\n",
       "      <th>All Ricks</th>\n",
       "      <td>32</td>\n",
       "    </tr>\n",
       "    <tr>\n",
       "      <th>All Summers</th>\n",
       "      <td>13</td>\n",
       "    </tr>\n",
       "    <tr>\n",
       "      <th>Beth</th>\n",
       "      <td>30</td>\n",
       "    </tr>\n",
       "    <tr>\n",
       "      <th>Jerry</th>\n",
       "      <td>25</td>\n",
       "    </tr>\n",
       "    <tr>\n",
       "      <th>...</th>\n",
       "      <th>...</th>\n",
       "      <td>...</td>\n",
       "    </tr>\n",
       "    <tr>\n",
       "      <th rowspan=\"5\" valign=\"top\">Vindicators 3  The Return of Worldender</th>\n",
       "      <th>Morty</th>\n",
       "      <td>58</td>\n",
       "    </tr>\n",
       "    <tr>\n",
       "      <th>Rick</th>\n",
       "      <td>80</td>\n",
       "    </tr>\n",
       "    <tr>\n",
       "      <th>Summer</th>\n",
       "      <td>1</td>\n",
       "    </tr>\n",
       "    <tr>\n",
       "      <th>Supernova</th>\n",
       "      <td>44</td>\n",
       "    </tr>\n",
       "    <tr>\n",
       "      <th>Vance</th>\n",
       "      <td>17</td>\n",
       "    </tr>\n",
       "  </tbody>\n",
       "</table>\n",
       "<p>104 rows × 1 columns</p>\n",
       "</div>"
      ],
      "text/plain": [
       "                                                     line\n",
       "episode name                            name             \n",
       "A Rickle in Time                        All Mortys     15\n",
       "                                        All Ricks      32\n",
       "                                        All Summers    13\n",
       "                                        Beth           30\n",
       "                                        Jerry          25\n",
       "...                                                   ...\n",
       "Vindicators 3  The Return of Worldender Morty          58\n",
       "                                        Rick           80\n",
       "                                        Summer          1\n",
       "                                        Supernova      44\n",
       "                                        Vance          17\n",
       "\n",
       "[104 rows x 1 columns]"
      ]
     },
     "execution_count": 7,
     "metadata": {},
     "output_type": "execute_result"
    }
   ],
   "source": [
    "chats_outline = df.groupby(['episode name', 'name']).agg({'line':'count'})\n",
    "chats_outline"
   ]
  },
  {
   "cell_type": "code",
   "execution_count": 8,
   "metadata": {
    "scrolled": true
   },
   "outputs": [
    {
     "data": {
      "text/plain": [
       "array(['Pilot', 'Lawnmower Dog', 'Rick Potion 9', 'A Rickle in Time',\n",
       "       'The Wedding Squanchers', 'Get Schwifty',\n",
       "       'Interdimensional Cable 2  Tempting Fate',\n",
       "       'The Rickshank Rickdemption', 'Pickle Rick',\n",
       "       'Vindicators 3  The Return of Worldender',\n",
       "       'Tales From the Citadel'], dtype=object)"
      ]
     },
     "execution_count": 8,
     "metadata": {},
     "output_type": "execute_result"
    }
   ],
   "source": [
    "all_chat_titles = df['episode name'].drop_duplicates().values\n",
    "all_chat_titles"
   ]
  },
  {
   "cell_type": "code",
   "execution_count": 37,
   "metadata": {
    "scrolled": false
   },
   "outputs": [
    {
     "name": "stdout",
     "output_type": "stream",
     "text": [
      "Example message from HTTP response:\n"
     ]
    },
    {
     "data": {
      "text/html": [
       "Error: A public chatroom already exists with the name <b>tales_from_the_citadel</b>.<br> Please try using a different chat_title."
      ],
      "text/plain": [
       "<IPython.core.display.HTML object>"
      ]
     },
     "metadata": {},
     "output_type": "display_data"
    }
   ],
   "source": [
    "for chat_title in all_chat_titles:\n",
    "    participants = list(chats_outline.loc[chat_title].index) # These are the chat_titles and usernames\n",
    "    route = f\"/chat/create?title={chat_title}&users={participants}\"\n",
    "    res = requests.get(flask_api+route)\n",
    "    \n",
    "print('Example message from HTTP response:')\n",
    "display(HTML(res.text))"
   ]
  },
  {
   "cell_type": "markdown",
   "metadata": {},
   "source": [
    "### 3 - Add New Users to an existing chat\n",
    "To do this, I have create a new dummy user `rihp`, and added it to the `get_schwifty` chat."
   ]
  },
  {
   "cell_type": "code",
   "execution_count": 10,
   "metadata": {},
   "outputs": [
    {
     "data": {
      "text/html": [
       "<b>Sorry. That username, 'rihp' is already taken.</b> <br>Please choose a different username."
      ],
      "text/plain": [
       "<IPython.core.display.HTML object>"
      ]
     },
     "metadata": {},
     "output_type": "display_data"
    },
    {
     "name": "stdout",
     "output_type": "stream",
     "text": [
      "------------------------------------------------------\n"
     ]
    },
    {
     "data": {
      "text/html": [
       "<b>rihp</b> has been added to <b>get_schwifty</b>. <br> chat_id:5eac8ae5b937e722814a7e5e <br>user_id:5eac86ea16eb041844fc969b"
      ],
      "text/plain": [
       "<IPython.core.display.HTML object>"
      ]
     },
     "metadata": {},
     "output_type": "display_data"
    }
   ],
   "source": [
    "username='rihp'\n",
    "chat_title = \"get_schwifty\"\n",
    "\n",
    "res = requests.get(flask_api+f'/user/create/{username}')\n",
    "display(HTML(res.text))\n",
    "print('------------------------------------------------------')\n",
    "route = f\"/chat/{chat_title}/adduser?&username={username}\"\n",
    "res = requests.get(flask_api+route)\n",
    "display(HTML(res.text))"
   ]
  },
  {
   "cell_type": "markdown",
   "metadata": {},
   "source": [
    "### 4 - Add Messages to a public chat"
   ]
  },
  {
   "cell_type": "code",
   "execution_count": 61,
   "metadata": {
    "scrolled": false
   },
   "outputs": [
    {
     "data": {
      "text/html": [
       "<div>\n",
       "<style scoped>\n",
       "    .dataframe tbody tr th:only-of-type {\n",
       "        vertical-align: middle;\n",
       "    }\n",
       "\n",
       "    .dataframe tbody tr th {\n",
       "        vertical-align: top;\n",
       "    }\n",
       "\n",
       "    .dataframe thead th {\n",
       "        text-align: right;\n",
       "    }\n",
       "</style>\n",
       "<table border=\"1\" class=\"dataframe\">\n",
       "  <thead>\n",
       "    <tr style=\"text-align: right;\">\n",
       "      <th></th>\n",
       "      <th>episode name</th>\n",
       "      <th>name</th>\n",
       "      <th>line</th>\n",
       "    </tr>\n",
       "  </thead>\n",
       "  <tbody>\n",
       "    <tr>\n",
       "      <th>0</th>\n",
       "      <td>Pilot</td>\n",
       "      <td>Rick</td>\n",
       "      <td>Morty! You gotta come on. Jus'... you gotta co...</td>\n",
       "    </tr>\n",
       "    <tr>\n",
       "      <th>1</th>\n",
       "      <td>Pilot</td>\n",
       "      <td>Morty</td>\n",
       "      <td>What, Rick? What’s going on?</td>\n",
       "    </tr>\n",
       "    <tr>\n",
       "      <th>2</th>\n",
       "      <td>Pilot</td>\n",
       "      <td>Rick</td>\n",
       "      <td>I got a surprise for you, Morty.</td>\n",
       "    </tr>\n",
       "  </tbody>\n",
       "</table>\n",
       "</div>"
      ],
      "text/plain": [
       "  episode name   name                                               line\n",
       "0        Pilot   Rick  Morty! You gotta come on. Jus'... you gotta co...\n",
       "1        Pilot  Morty                       What, Rick? What’s going on?\n",
       "2        Pilot   Rick                   I got a surprise for you, Morty."
      ]
     },
     "execution_count": 61,
     "metadata": {},
     "output_type": "execute_result"
    }
   ],
   "source": [
    "m_outline = df[['episode name', 'name', 'line']]\n",
    "m_outline.head(3)"
   ]
  },
  {
   "cell_type": "markdown",
   "metadata": {
    "scrolled": false
   },
   "source": [
    "### To send a message, the user must be part of the chat\n",
    "This function is buggy and prints a lot of verbose.\n",
    "Please fix \n",
    "\n",
    "`check_user_in_chat('rihp', 'pickle_rick')`"
   ]
  },
  {
   "cell_type": "code",
   "execution_count": 62,
   "metadata": {
    "scrolled": true
   },
   "outputs": [
    {
     "data": {
      "text/html": [
       "<div>\n",
       "<style scoped>\n",
       "    .dataframe tbody tr th:only-of-type {\n",
       "        vertical-align: middle;\n",
       "    }\n",
       "\n",
       "    .dataframe tbody tr th {\n",
       "        vertical-align: top;\n",
       "    }\n",
       "\n",
       "    .dataframe thead th {\n",
       "        text-align: right;\n",
       "    }\n",
       "</style>\n",
       "<table border=\"1\" class=\"dataframe\">\n",
       "  <thead>\n",
       "    <tr style=\"text-align: right;\">\n",
       "      <th></th>\n",
       "      <th>episode name</th>\n",
       "      <th>name</th>\n",
       "      <th>line</th>\n",
       "    </tr>\n",
       "  </thead>\n",
       "  <tbody>\n",
       "    <tr>\n",
       "      <th>1476</th>\n",
       "      <td>Pickle Rick</td>\n",
       "      <td>Rick</td>\n",
       "      <td>Jaguar!</td>\n",
       "    </tr>\n",
       "    <tr>\n",
       "      <th>1477</th>\n",
       "      <td>Pickle Rick</td>\n",
       "      <td>Morty</td>\n",
       "      <td>Who? Who was that, Rick?</td>\n",
       "    </tr>\n",
       "    <tr>\n",
       "      <th>1478</th>\n",
       "      <td>Pickle Rick</td>\n",
       "      <td>Rick</td>\n",
       "      <td>That, Morty, is why you don't go to therapy.</td>\n",
       "    </tr>\n",
       "  </tbody>\n",
       "</table>\n",
       "</div>"
      ],
      "text/plain": [
       "     episode name   name                                          line\n",
       "1476  Pickle Rick   Rick                                       Jaguar!\n",
       "1477  Pickle Rick  Morty                      Who? Who was that, Rick?\n",
       "1478  Pickle Rick   Rick  That, Morty, is why you don't go to therapy."
      ]
     },
     "execution_count": 62,
     "metadata": {},
     "output_type": "execute_result"
    }
   ],
   "source": [
    "m_outline[m_outline['episode name'] == 'Pickle Rick'].tail(3)"
   ]
  },
  {
   "cell_type": "markdown",
   "metadata": {},
   "source": [
    "### This cell is not very efficient\n",
    "it sends all the messages to the database"
   ]
  },
  {
   "cell_type": "code",
   "execution_count": 63,
   "metadata": {},
   "outputs": [],
   "source": [
    "for i in m_outline.index:\n",
    "    message = m_outline.iloc[i]\n",
    "    \n",
    "    chat_title = message['episode name']\n",
    "    username = message['name']\n",
    "    text = message['line']\n",
    "    #print(username, text)\n",
    "    route = f\"/chat/{chat_title}/addmessage?username={username}&text={text}\"\n",
    "    res = requests.get(flask_api+route)\n",
    "#display(HTML(res.text))"
   ]
  },
  {
   "cell_type": "markdown",
   "metadata": {},
   "source": [
    "### 5 - Query all the messages sent to an specific chat\n",
    "- (GET) `/chat/<chat_id>/list`"
   ]
  },
  {
   "cell_type": "markdown",
   "metadata": {},
   "source": [
    "Aggregate the messages in the chat"
   ]
  },
  {
   "cell_type": "code",
   "execution_count": 64,
   "metadata": {},
   "outputs": [],
   "source": [
    "cur = db.chat.aggregate([\n",
    "    {\n",
    "        '$lookup': {\n",
    "            'from': 'messages', \n",
    "            'localField': 'messages', \n",
    "            'foreignField': '_id', \n",
    "            'as': 'messages'\n",
    "        }\n",
    "    }, {\n",
    "        '$lookup': {\n",
    "            'from': 'user', \n",
    "            'localField': 'participants', \n",
    "            'foreignField': '_id', \n",
    "            'as': 'participants'\n",
    "        }\n",
    "    }, {\n",
    "        '$project': {\n",
    "            '_id': 1, \n",
    "            'title': 1, \n",
    "            'participants': 1, \n",
    "            'messages': {\n",
    "                'text': 1, \n",
    "                'username': 1\n",
    "            }\n",
    "        }\n",
    "    }\n",
    "])\n",
    "query = list(cur)"
   ]
  },
  {
   "cell_type": "markdown",
   "metadata": {},
   "source": [
    "### Access the specific chat and display some of the messages\n",
    "This is not the specific chat, its only the first one in the list. fix this"
   ]
  },
  {
   "cell_type": "code",
   "execution_count": 65,
   "metadata": {
    "scrolled": false
   },
   "outputs": [
    {
     "name": "stdout",
     "output_type": "stream",
     "text": [
      "Morty! You gotta come on. Jus'... you gotta come with me.\n",
      "What, Rick? What’s going on?\n",
      "I got a surprise for you, Morty.\n",
      "It's the middle of the night. What are you talking about?\n",
      "Come on, I got a surprise for you.  Come on, hurry up.\n",
      "Ow! Ow! You're tugging me too hard!\n",
      "We gotta go, gotta get outta here, come on. Got a surprise for you Morty.\n"
     ]
    }
   ],
   "source": [
    "for i in range(7):\n",
    "    print(query[0]['messages'][i]['text'])"
   ]
  },
  {
   "cell_type": "markdown",
   "metadata": {},
   "source": [
    "### 6 - Perform a Sentiment analysis on an specific chat message history\n",
    "- (GET) `/chat/<chat_id>/sentiment`"
   ]
  },
  {
   "cell_type": "code",
   "execution_count": 66,
   "metadata": {},
   "outputs": [],
   "source": [
    "def get_chat_doc(chat_title, query):\n",
    "    for i in range(len(query)):\n",
    "        if query[i]['title'] == chat_title:\n",
    "            yield query[i]"
   ]
  },
  {
   "cell_type": "code",
   "execution_count": 79,
   "metadata": {},
   "outputs": [],
   "source": [
    "episode = 'Get Schwifty'\n",
    "chat_title = no_spaces(episode).lower()\n",
    "chat_messages = list(get_chat_doc(chat_title, query))[0]['messages']\n",
    "\n",
    "if len(chat_messages) != df['episode name'].value_counts()[episode]: \n",
    "    raise Exception('something is wrong here, the database has more messages than it should have')"
   ]
  },
  {
   "cell_type": "code",
   "execution_count": 80,
   "metadata": {},
   "outputs": [],
   "source": [
    "sia = SentimentIntensityAnalyzer()"
   ]
  },
  {
   "cell_type": "code",
   "execution_count": 81,
   "metadata": {},
   "outputs": [],
   "source": [
    "def analyze_chat_sentiment(chat_messages):\n",
    "    for i in range(len(chat_messages)):\n",
    "        text = chat_messages[i]['text']\n",
    "        yield sia.polarity_scores(text) # Analyze this"
   ]
  },
  {
   "cell_type": "code",
   "execution_count": 82,
   "metadata": {},
   "outputs": [
    {
     "data": {
      "text/html": [
       "<div>\n",
       "<style scoped>\n",
       "    .dataframe tbody tr th:only-of-type {\n",
       "        vertical-align: middle;\n",
       "    }\n",
       "\n",
       "    .dataframe tbody tr th {\n",
       "        vertical-align: top;\n",
       "    }\n",
       "\n",
       "    .dataframe thead th {\n",
       "        text-align: right;\n",
       "    }\n",
       "</style>\n",
       "<table border=\"1\" class=\"dataframe\">\n",
       "  <thead>\n",
       "    <tr style=\"text-align: right;\">\n",
       "      <th></th>\n",
       "      <th>neg</th>\n",
       "      <th>neu</th>\n",
       "      <th>pos</th>\n",
       "      <th>compound</th>\n",
       "    </tr>\n",
       "  </thead>\n",
       "  <tbody>\n",
       "    <tr>\n",
       "      <th>count</th>\n",
       "      <td>221.000000</td>\n",
       "      <td>221.000000</td>\n",
       "      <td>221.000000</td>\n",
       "      <td>221.000000</td>\n",
       "    </tr>\n",
       "    <tr>\n",
       "      <th>mean</th>\n",
       "      <td>0.104633</td>\n",
       "      <td>0.780190</td>\n",
       "      <td>0.115186</td>\n",
       "      <td>0.046848</td>\n",
       "    </tr>\n",
       "    <tr>\n",
       "      <th>std</th>\n",
       "      <td>0.200661</td>\n",
       "      <td>0.239887</td>\n",
       "      <td>0.187185</td>\n",
       "      <td>0.433142</td>\n",
       "    </tr>\n",
       "    <tr>\n",
       "      <th>min</th>\n",
       "      <td>0.000000</td>\n",
       "      <td>0.000000</td>\n",
       "      <td>0.000000</td>\n",
       "      <td>-0.891000</td>\n",
       "    </tr>\n",
       "    <tr>\n",
       "      <th>25%</th>\n",
       "      <td>0.000000</td>\n",
       "      <td>0.647000</td>\n",
       "      <td>0.000000</td>\n",
       "      <td>-0.102700</td>\n",
       "    </tr>\n",
       "    <tr>\n",
       "      <th>50%</th>\n",
       "      <td>0.000000</td>\n",
       "      <td>0.809000</td>\n",
       "      <td>0.000000</td>\n",
       "      <td>0.000000</td>\n",
       "    </tr>\n",
       "    <tr>\n",
       "      <th>75%</th>\n",
       "      <td>0.133000</td>\n",
       "      <td>1.000000</td>\n",
       "      <td>0.191000</td>\n",
       "      <td>0.361200</td>\n",
       "    </tr>\n",
       "    <tr>\n",
       "      <th>max</th>\n",
       "      <td>1.000000</td>\n",
       "      <td>1.000000</td>\n",
       "      <td>1.000000</td>\n",
       "      <td>0.978500</td>\n",
       "    </tr>\n",
       "  </tbody>\n",
       "</table>\n",
       "</div>"
      ],
      "text/plain": [
       "              neg         neu         pos    compound\n",
       "count  221.000000  221.000000  221.000000  221.000000\n",
       "mean     0.104633    0.780190    0.115186    0.046848\n",
       "std      0.200661    0.239887    0.187185    0.433142\n",
       "min      0.000000    0.000000    0.000000   -0.891000\n",
       "25%      0.000000    0.647000    0.000000   -0.102700\n",
       "50%      0.000000    0.809000    0.000000    0.000000\n",
       "75%      0.133000    1.000000    0.191000    0.361200\n",
       "max      1.000000    1.000000    1.000000    0.978500"
      ]
     },
     "metadata": {},
     "output_type": "display_data"
    },
    {
     "name": "stdout",
     "output_type": "stream",
     "text": [
      "neg         0.104633\n",
      "neu         0.780190\n",
      "pos         0.115186\n",
      "compound    0.046848\n",
      "Name: mean, dtype: float64\n"
     ]
    }
   ],
   "source": [
    "sentiment = pd.DataFrame(list(analyze_chat_sentiment(chat_messages)))\n",
    "display(sentiment.describe())\n",
    "print(sentiment.describe().loc['mean'])"
   ]
  },
  {
   "cell_type": "markdown",
   "metadata": {},
   "source": [
    "### 7 - Query all the messages sent from an specific user"
   ]
  },
  {
   "cell_type": "markdown",
   "metadata": {},
   "source": [
    "### 8 - Recommender system takes in an `user_id` and return top-3 similar `users`\n",
    "- (GET) `/user/<user_id>/recommend`"
   ]
  },
  {
   "cell_type": "markdown",
   "metadata": {},
   "source": [
    "### 9 - Move local database to MongoAtlas cloud"
   ]
  },
  {
   "cell_type": "markdown",
   "metadata": {},
   "source": [
    "### 10 - Prepare Docker Image"
   ]
  },
  {
   "cell_type": "markdown",
   "metadata": {},
   "source": [
    "### 11  - Deploy Docker Image in Heroku"
   ]
  },
  {
   "cell_type": "code",
   "execution_count": null,
   "metadata": {},
   "outputs": [],
   "source": [
    "# Some basic checking:\n",
    "Is there a chat "
   ]
  }
 ],
 "metadata": {
  "kernelspec": {
   "display_name": "Python 3.6.9 64-bit",
   "language": "python",
   "name": "python36964bit17c6ebb0882a44ad96e177b7fffe16a0"
  },
  "language_info": {
   "codemirror_mode": {
    "name": "ipython",
    "version": 3
   },
   "file_extension": ".py",
   "mimetype": "text/x-python",
   "name": "python",
   "nbconvert_exporter": "python",
   "pygments_lexer": "ipython3",
   "version": "3.6.9"
  }
 },
 "nbformat": 4,
 "nbformat_minor": 4
}
