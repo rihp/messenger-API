{
 "cells": [
  {
   "cell_type": "markdown",
   "metadata": {},
   "source": [
    "# Set up the connection to MongoDB"
   ]
  },
  {
   "cell_type": "code",
   "execution_count": 1,
   "metadata": {
    "scrolled": false
   },
   "outputs": [
    {
     "name": "stdout",
     "output_type": "stream",
     "text": [
      "Connected to MongoClient...  \n"
     ]
    }
   ],
   "source": [
    "import nltk\n",
    "import requests\n",
    "import pandas as pd\n",
    "import seaborn as sns\n",
    "import matplotlib.pyplot as plt\n",
    "\n",
    "from src.config import *\n",
    "from src.mongohandler import *\n",
    "from src import recommender\n",
    "\n",
    "from bson.son import SON\n",
    "from IPython.display import display, HTML\n",
    "\n",
    "from nltk.sentiment.vader import SentimentIntensityAnalyzer\n",
    "from sklearn.feature_extraction.text import CountVectorizer\n",
    "from sklearn.metrics.pairwise import cosine_similarity as cosine_distances\n",
    "from sklearn.metrics.pairwise import euclidean_distances as euclidean_distances\n",
    "\n",
    "# IMPORTANT : Remember to start mongodb server if you are running a local version of this project\n",
    "# run $ sudo systemctl start mongod\n",
    "# Also, start the api.py Flask server\n",
    "#     $ python3 api.py"
   ]
  },
  {
   "cell_type": "code",
   "execution_count": null,
   "metadata": {},
   "outputs": [],
   "source": [
    "print(flask_api)"
   ]
  },
  {
   "cell_type": "code",
   "execution_count": null,
   "metadata": {},
   "outputs": [],
   "source": [
    "nltk.download('vader_lexicon')"
   ]
  },
  {
   "cell_type": "markdown",
   "metadata": {},
   "source": [
    "# Trying out our basic functions\n",
    "\n",
    "To interact with the Messenger API we will use the python built-in `requests` module.\n",
    "\n",
    "These aditionally, we will leverage on MongoDB as a database to store all relevant data for the `users` `chats` and `messages`. To do this, a `mongohandler` module with functions has also been developed and imported."
   ]
  },
  {
   "cell_type": "markdown",
   "metadata": {},
   "source": [
    "### To begin, lets use some scripts from the TV Show `Rick and Morty` to seed out API."
   ]
  },
  {
   "cell_type": "code",
   "execution_count": null,
   "metadata": {
    "scrolled": true
   },
   "outputs": [],
   "source": [
    "# Found this dataset on Kaggle, data can be updated by scrapping this wiki:\n",
    "#  -  https://rickandmorty.fandom.com/wiki/Category:Transcripts\n",
    "\n",
    "original_df = pd.read_csv('INPUT/RickAndMortyScripts.csv')\n",
    "df = original_df\n",
    "df.head(3)"
   ]
  },
  {
   "cell_type": "markdown",
   "metadata": {},
   "source": [
    "### 1 - Create Users:\n",
    "Endpoint: `/user/create/<username>`"
   ]
  },
  {
   "cell_type": "code",
   "execution_count": null,
   "metadata": {
    "scrolled": false
   },
   "outputs": [],
   "source": [
    "usernames = [e for e in df.name.value_counts().index]\n",
    "print(usernames[:8])"
   ]
  },
  {
   "cell_type": "code",
   "execution_count": null,
   "metadata": {
    "scrolled": true
   },
   "outputs": [],
   "source": [
    "def import_usernames(usernames):\n",
    "    for user in usernames:\n",
    "        route = f'/user/create/{user}'\n",
    "        res = requests.get(flask_api+route)\n",
    "    #returns only the last response\n",
    "    return res\n",
    "\n",
    "last_response = import_usernames(usernames)\n",
    "print(f'We have tried to create {len(usernames)} users.')\n",
    "print(\"Last recorded event : \")    \n",
    "display(HTML(last_response.text)) # Last user created    "
   ]
  },
  {
   "cell_type": "markdown",
   "metadata": {},
   "source": [
    "### 2 - Create Public Chats\n",
    "To do this, we will group the df by episode name, and use that variable as the `chat_title` to send to the API. Also, this group by allows us to see a list of the characters present on each episode."
   ]
  },
  {
   "cell_type": "markdown",
   "metadata": {},
   "source": [
    "Use this as an index to later create the group with the right members\n"
   ]
  },
  {
   "cell_type": "code",
   "execution_count": null,
   "metadata": {
    "scrolled": true
   },
   "outputs": [],
   "source": [
    "chats_outline = df.groupby(['episode name', 'name']).agg({'line':'count'})\n",
    "display(chats_outline.head(6))"
   ]
  },
  {
   "cell_type": "markdown",
   "metadata": {},
   "source": [
    "Also, create a list of all the episodes we are going to upload"
   ]
  },
  {
   "cell_type": "code",
   "execution_count": null,
   "metadata": {
    "scrolled": false
   },
   "outputs": [],
   "source": [
    "all_chat_titles = df['episode name'].drop_duplicates().values\n",
    "all_chat_titles"
   ]
  },
  {
   "cell_type": "markdown",
   "metadata": {},
   "source": [
    "#### Sending a request to the API, for every available `chat_tile & usernames` group"
   ]
  },
  {
   "cell_type": "code",
   "execution_count": null,
   "metadata": {
    "scrolled": false
   },
   "outputs": [],
   "source": [
    "def create_chat(chat_title, participants):\n",
    "    route = f\"/chat/create?title={chat_title}&users={participants}\"\n",
    "    res = requests.get(flask_api+route)\n",
    "    return res"
   ]
  },
  {
   "cell_type": "code",
   "execution_count": null,
   "metadata": {},
   "outputs": [],
   "source": [
    "for chat_title in all_chat_titles:\n",
    "    participants = list(chats_outline.loc[chat_title].index) # These are the chat_titles and usernames\n",
    "    res = create_chat(chat_title, participants)\n",
    "\n",
    "    \n",
    "print(\"Last recorded event's http response: \")    \n",
    "display(HTML(res.text))"
   ]
  },
  {
   "cell_type": "markdown",
   "metadata": {},
   "source": [
    "### 3 - Add New Users to an existing chat\n",
    "To do this, I have create a new dummy user `rihp`, and added it to the `get_schwifty` chat."
   ]
  },
  {
   "cell_type": "code",
   "execution_count": null,
   "metadata": {},
   "outputs": [],
   "source": [
    "def add_user_to_chat(username, chat_title):\n",
    "    route = f\"/chat/{chat_title}/adduser?&username={username}\"\n",
    "    res = requests.get(flask_api+route)\n",
    "    return res"
   ]
  },
  {
   "cell_type": "code",
   "execution_count": null,
   "metadata": {},
   "outputs": [],
   "source": [
    "username=['rihp']\n",
    "chat_title = \"get_schwifty\"\n",
    "\n",
    "res = import_usernames(username)\n",
    "display(HTML(res.text))\n",
    "print('------------------------------------------------------')\n",
    "res = add_user_to_chat(*username, chat_title)\n",
    "display(HTML(res.text))"
   ]
  },
  {
   "cell_type": "markdown",
   "metadata": {},
   "source": [
    "### 4 - Add Messages to a public chat\n",
    "Using our dataset, we will use the following columns to populate our collection of `messages`"
   ]
  },
  {
   "cell_type": "markdown",
   "metadata": {
    "scrolled": false
   },
   "source": [
    "#### To send a message, the user must be part of the chat\n",
    "This function is buggy and prints a lot of verbose.\n",
    "Please fix \n",
    "\n",
    "`check_user_in_chat('rihp', 'pickle_rick')`"
   ]
  },
  {
   "cell_type": "code",
   "execution_count": null,
   "metadata": {
    "scrolled": false
   },
   "outputs": [],
   "source": [
    "m_outline = df[['episode name', 'name', 'line']]\n",
    "m_outline.head(3)"
   ]
  },
  {
   "cell_type": "markdown",
   "metadata": {},
   "source": [
    "### The execution of these cells is not very efficient\n",
    "they send all the messages to the database"
   ]
  },
  {
   "cell_type": "code",
   "execution_count": null,
   "metadata": {},
   "outputs": [],
   "source": [
    "def send_message(username, chat_title, text):\n",
    "    route = f\"/chat/{chat_title}/addmessage?username={username}&text={text}\"\n",
    "    res = requests.get(flask_api+route)\n",
    "    return res"
   ]
  },
  {
   "cell_type": "code",
   "execution_count": null,
   "metadata": {},
   "outputs": [],
   "source": [
    "for i in m_outline.index:\n",
    "    message = m_outline.iloc[i]                         # Locate the message\n",
    "    chat_title = message['episode name']                # Define the episode name\n",
    "    username = message['name']                          # Define the username  \n",
    "    text = message['line']                              # Define the message text\n",
    "    res  = send_message(username, chat_title, text)# <----SEND MESSAGE TO API------\n",
    "print(\"Last recorded event (The http response): \")    \n",
    "display(HTML(res.text))"
   ]
  },
  {
   "cell_type": "markdown",
   "metadata": {},
   "source": [
    "### 5 - Query all the messages sent to an specific chat\n",
    "- (GET) `/chat/<chat_id>/list`"
   ]
  },
  {
   "cell_type": "markdown",
   "metadata": {},
   "source": [
    "Aggregate the messages in the chat, using this pipeline query on our Mongo Database"
   ]
  },
  {
   "cell_type": "code",
   "execution_count": null,
   "metadata": {
    "scrolled": false
   },
   "outputs": [],
   "source": [
    "CHATSquery = get_CHATSquery()"
   ]
  },
  {
   "cell_type": "markdown",
   "metadata": {},
   "source": [
    "### Access the specific chat and display some of the messages\n",
    "This is not the specific chat, its only the first one in the list. fix this"
   ]
  },
  {
   "cell_type": "code",
   "execution_count": null,
   "metadata": {
    "scrolled": false
   },
   "outputs": [],
   "source": [
    "all_chat_titles = list(enumerate([doc['title'] for doc in CHATSquery]))\n",
    "all_chat_titles"
   ]
  },
  {
   "cell_type": "markdown",
   "metadata": {},
   "source": [
    "### Access the first 5 lines of the `Pickle Rick` episode, index `8`"
   ]
  },
  {
   "cell_type": "code",
   "execution_count": null,
   "metadata": {
    "scrolled": false
   },
   "outputs": [],
   "source": [
    "for i in range(5):\n",
    "    print(CHATSquery[8]['messages'][i]['text']) "
   ]
  },
  {
   "cell_type": "markdown",
   "metadata": {},
   "source": [
    "### 6 - Perform a Sentiment analysis on an specific chat message history\n",
    "- (GET) `/chat/<chat_id>/sentiment`\n",
    "\n",
    "In this case, we will start analyzing Rick and Morty's (Season 1, Episode 5), `Get Schwifty`."
   ]
  },
  {
   "cell_type": "code",
   "execution_count": null,
   "metadata": {},
   "outputs": [],
   "source": [
    "# This function takes in a pymongo CHATSquery cursor\n",
    "# which has already been turned into a list\n",
    "# and looks for an specific chat title.\n",
    "\n",
    "def get_chat_doc(chat_title, query):\n",
    "    for i in range(len(query)):\n",
    "        if query[i]['title'] == chat_title:\n",
    "            yield query[i]"
   ]
  },
  {
   "cell_type": "markdown",
   "metadata": {},
   "source": [
    "#### Set the chat_title variable"
   ]
  },
  {
   "cell_type": "code",
   "execution_count": null,
   "metadata": {},
   "outputs": [],
   "source": [
    "episode = 'Get Schwifty'\n",
    "chat_title = no_spaces(episode).lower()\n",
    "chat_messages = list(get_chat_doc(chat_title, CHATSquery))[0]['messages']"
   ]
  },
  {
   "cell_type": "code",
   "execution_count": null,
   "metadata": {},
   "outputs": [],
   "source": [
    "check_original_data = False\n",
    "if check_original_data:\n",
    "    if len(chat_messages) != df['episode name'].value_counts()[episode]: \n",
    "        raise Exception('something is wrong here, the database has more messages than it should have')"
   ]
  },
  {
   "cell_type": "markdown",
   "metadata": {},
   "source": [
    "#### Begin the sentiment analysis of that chat room"
   ]
  },
  {
   "cell_type": "code",
   "execution_count": null,
   "metadata": {},
   "outputs": [],
   "source": [
    "sia = SentimentIntensityAnalyzer()"
   ]
  },
  {
   "cell_type": "code",
   "execution_count": null,
   "metadata": {},
   "outputs": [],
   "source": [
    "def analyze_chat_sentiment(chat_messages):\n",
    "    for i in range(len(chat_messages)):\n",
    "        text = chat_messages[i]['text']\n",
    "        yield sia.polarity_scores(text) # Analyze this"
   ]
  },
  {
   "cell_type": "code",
   "execution_count": null,
   "metadata": {
    "scrolled": false
   },
   "outputs": [],
   "source": [
    "print(f\"Sentiment analysis for the chat: \\n {chat_title}\")\n",
    "sentiment = pd.DataFrame(list(analyze_chat_sentiment(chat_messages)))\n",
    "display(sentiment.describe())"
   ]
  },
  {
   "cell_type": "markdown",
   "metadata": {},
   "source": [
    "## Accessing the API endpoint"
   ]
  },
  {
   "cell_type": "code",
   "execution_count": null,
   "metadata": {},
   "outputs": [],
   "source": [
    "def get_chat_sia(chat_title):\n",
    "    route = f\"/chat/{chat_title}/sentiment\"\n",
    "    res = requests.get(flask_api+route)\n",
    "    return res"
   ]
  },
  {
   "cell_type": "code",
   "execution_count": null,
   "metadata": {},
   "outputs": [],
   "source": [
    "res = get_chat_sia('pickle_rick')"
   ]
  },
  {
   "cell_type": "code",
   "execution_count": null,
   "metadata": {},
   "outputs": [],
   "source": [
    "print(f\" Number of lines avaliable to analyze: {len(res.json()['compound'])}\")\n",
    "print(res.json().keys())"
   ]
  },
  {
   "cell_type": "markdown",
   "metadata": {},
   "source": [
    "#### Get the mean compound for all the chats"
   ]
  },
  {
   "cell_type": "code",
   "execution_count": null,
   "metadata": {
    "scrolled": true
   },
   "outputs": [],
   "source": [
    "def get_chats_sia_scores(all_chat_titles, query):\n",
    "    overall_scores = {}\n",
    "    for episode_num, chat_title in all_chat_titles:\n",
    "        chat_messages = list(get_chat_doc(chat_title, query))[0]['messages']\n",
    "        sentiment = pd.DataFrame(list(analyze_chat_sentiment(chat_messages)))\n",
    "        overall_scores.update({chat_title:sentiment.describe().loc['mean']['compound']})\n",
    "    return pd.DataFrame.from_dict(overall_scores, orient='index', columns=['mean_compound_score'])"
   ]
  },
  {
   "cell_type": "code",
   "execution_count": null,
   "metadata": {
    "scrolled": true
   },
   "outputs": [],
   "source": [
    "all_chats_sia_scores = get_chats_sia_scores(all_chat_titles, CHATSquery)\n",
    "plt.figure(figsize=(15,5))\n",
    "plt.ylabel('EPISODES')\n",
    "plt.xlabel('SENTIMENT INTENSITY SCORE')\n",
    "plt.title('RICK AND MORTY SENTIMENT INTENSITY MEAN COMPOUND SCORE PER EPISODE')\n",
    "plt.barh(all_chats_sia_scores.index,all_chats_sia_scores.mean_compound_score )"
   ]
  },
  {
   "cell_type": "markdown",
   "metadata": {},
   "source": [
    "### 7 - Query all the messages from an specific user, and perform SIA"
   ]
  },
  {
   "cell_type": "markdown",
   "metadata": {},
   "source": [
    "####  Use a query, find a username and create an iterator that includes all the messages from that username"
   ]
  },
  {
   "cell_type": "code",
   "execution_count": null,
   "metadata": {
    "scrolled": true
   },
   "outputs": [],
   "source": [
    "USERSquery = get_USERSquery()\n",
    "query = USERSquery"
   ]
  },
  {
   "cell_type": "code",
   "execution_count": null,
   "metadata": {},
   "outputs": [],
   "source": [
    "def iter_messages_from_user(query, username):\n",
    "    for user_doc in query:                               # Exploring the query\n",
    "        if user_doc['_id'] == get_user_id(username):     # Finding an specific user id   \n",
    "            for message in user_doc['all_messages']:     # Looping through the messages\n",
    "                yield message['text']                    # Analyze these raw strings"
   ]
  },
  {
   "cell_type": "code",
   "execution_count": null,
   "metadata": {},
   "outputs": [],
   "source": [
    "username = 'Morty'"
   ]
  },
  {
   "cell_type": "code",
   "execution_count": null,
   "metadata": {},
   "outputs": [],
   "source": [
    "all_user_messages = list(iter_messages_from_user(query, username))   # As an array of strings\n",
    "all_user_messages[:2]"
   ]
  },
  {
   "cell_type": "markdown",
   "metadata": {},
   "source": [
    "#### Take an array of strings and create an iterator of SIA scores"
   ]
  },
  {
   "cell_type": "code",
   "execution_count": null,
   "metadata": {},
   "outputs": [],
   "source": [
    "def iter_sia_scores(array_of_strings):\n",
    "    for i in range(len(array_of_strings)):\n",
    "        text = array_of_strings[i]            # Define the raw string to be analyzed\n",
    "        yield sia.polarity_scores(text)       # Yield the results of the Polarity Score for each message"
   ]
  },
  {
   "cell_type": "code",
   "execution_count": null,
   "metadata": {},
   "outputs": [],
   "source": [
    "user_scores = list(iter_sia_scores(all_user_messages))\n",
    "user_scores[:2]"
   ]
  },
  {
   "cell_type": "markdown",
   "metadata": {},
   "source": [
    "#### Pass a list of sia scores, and return a pandas dataframe"
   ]
  },
  {
   "cell_type": "code",
   "execution_count": null,
   "metadata": {
    "scrolled": false
   },
   "outputs": [],
   "source": [
    "print(f\"Describing Sentiment Intensity Analysis for this user:\\n {username}\") \n",
    "to_df = lambda x : pd.DataFrame(x)\n",
    "to_df(user_scores).describe()"
   ]
  },
  {
   "cell_type": "code",
   "execution_count": null,
   "metadata": {
    "scrolled": true
   },
   "outputs": [],
   "source": [
    "def compare_user_sia(query):\n",
    "    for doc in query:\n",
    "        username = doc['username']\n",
    "\n",
    "        # Check the username and how many messsages have been sent\n",
    "        #print(username, len(doc['all_messages']))\n",
    "        if len(doc['all_messages']) == 0: continue\n",
    "\n",
    "        # Create an iterator of messages from the user described above,\n",
    "        all_user_messages = list(iter_messages_from_user(query, username))\n",
    "        \n",
    "        # And turn them into Sentiment Intensity Analysis scores.\n",
    "        user_scores = list(iter_sia_scores(all_user_messages))\n",
    "        compound_mean = to_df(user_scores)['compound'].mean()\n",
    "\n",
    "        yield username, to_df(user_scores)['compound'].mean()\n",
    "        \n",
    "        \n",
    "        \n",
    "sia_vectors = list(compare_user_sia(query))"
   ]
  },
  {
   "cell_type": "code",
   "execution_count": null,
   "metadata": {},
   "outputs": [],
   "source": [
    "df = to_df(sia_vectors)\n",
    "df = df.sort_values(by=1)\n",
    "plt.figure (figsize=(11,11))\n",
    "plt.xlabel('MEAN COMPOUND SENTIMENT INTENSITY ANALYSIS ')\n",
    "plt.ylabel('USERNAME')\n",
    "plt.barh(df[0], df[1])"
   ]
  },
  {
   "cell_type": "markdown",
   "metadata": {},
   "source": [
    "### 8 - Recommender system takes in an `user_id` and return top-3 similar `users`\n",
    "- (GET) `/user/<user_id>/recommend`"
   ]
  },
  {
   "cell_type": "markdown",
   "metadata": {},
   "source": [
    "### Prepare a dict: { 'rick':'all their messages joined in a single string'}\n"
   ]
  },
  {
   "cell_type": "code",
   "execution_count": null,
   "metadata": {},
   "outputs": [],
   "source": [
    "rick = 'rick'\n",
    "morty = 'morty'\n",
    "beth = 'beth'\n",
    "jerry = 'jerry'"
   ]
  },
  {
   "cell_type": "code",
   "execution_count": null,
   "metadata": {},
   "outputs": [],
   "source": [
    "USERSquery = get_USERSquery()\n",
    "usernames = [e['username'] for e in USERSquery]"
   ]
  },
  {
   "cell_type": "code",
   "execution_count": null,
   "metadata": {},
   "outputs": [],
   "source": [
    "print(usernames [:10])"
   ]
  },
  {
   "cell_type": "markdown",
   "metadata": {},
   "source": [
    "### All messages as a single string\n",
    "This produces an error with the `'` key, as it's showing as a backslash that could probably alter the meaning of the strings "
   ]
  },
  {
   "cell_type": "code",
   "execution_count": null,
   "metadata": {},
   "outputs": [],
   "source": [
    "raw_corpus = lambda query, username : \" \".join(list(iter_messages_from_user(query, username)))   \n",
    "\n",
    "docs = {\n",
    "    rick : raw_corpus(query, rick),\n",
    "    morty: raw_corpus(query, morty),\n",
    "    beth:  raw_corpus(query, beth),\n",
    "    jerry: raw_corpus(query, jerry),\n",
    "}"
   ]
  },
  {
   "cell_type": "code",
   "execution_count": null,
   "metadata": {},
   "outputs": [],
   "source": [
    "docs = {}\n",
    "for username in usernames:\n",
    "    username = no_spaces(username).lower()\n",
    "    docs.update({f\"{username}\":f\"{raw_corpus(query, username)}\"})"
   ]
  },
  {
   "cell_type": "code",
   "execution_count": null,
   "metadata": {},
   "outputs": [],
   "source": [
    "count_vectorizer = CountVectorizer()\n",
    "sparse_matrix = count_vectorizer.fit_transform(docs.values())\n",
    "print(list(count_vectorizer.vocabulary_.keys())[:20])\n",
    "m = sparse_matrix.todense()\n",
    "print(m.shape)\n",
    "print(m[0])"
   ]
  },
  {
   "cell_type": "code",
   "execution_count": null,
   "metadata": {
    "scrolled": false
   },
   "outputs": [],
   "source": [
    "doc_term_matrix = sparse_matrix.todense()\n",
    "df = pd.DataFrame(doc_term_matrix, \n",
    "                  columns=count_vectorizer.get_feature_names(), \n",
    "                  index=docs.keys())\n",
    "display(df.tail())"
   ]
  },
  {
   "cell_type": "markdown",
   "metadata": {},
   "source": [
    "#### Query specific words to explore the data for more human similarities"
   ]
  },
  {
   "cell_type": "code",
   "execution_count": null,
   "metadata": {
    "scrolled": true
   },
   "outputs": [],
   "source": [
    "my_words = [\"youtube\", \"dimension\", \"me\", \"my\", \"mine\", \"you\", \"your\", \"their\", \"them\", \"friend\", \"enemy\", ]\n",
    "display(df[my_words].sort_values(by=my_words, ascending=False).head())"
   ]
  },
  {
   "cell_type": "code",
   "execution_count": null,
   "metadata": {},
   "outputs": [],
   "source": [
    "#cosine_distances\n",
    "similarity_matrix = euclidean_distances(df,df)\n",
    "print(similarity_matrix)"
   ]
  },
  {
   "cell_type": "code",
   "execution_count": null,
   "metadata": {
    "scrolled": true
   },
   "outputs": [],
   "source": [
    "sim_df = pd.DataFrame(similarity_matrix, columns=docs.keys(), index=docs.keys())\n",
    "display(sim_df)"
   ]
  },
  {
   "cell_type": "code",
   "execution_count": null,
   "metadata": {},
   "outputs": [],
   "source": [
    "plt.figure(figsize=(15,15))\n",
    "sns.heatmap(sim_df,annot=False)"
   ]
  },
  {
   "cell_type": "markdown",
   "metadata": {},
   "source": [
    "#### The 3 users that are most similar to the user 'RICK'"
   ]
  },
  {
   "cell_type": "code",
   "execution_count": null,
   "metadata": {
    "scrolled": false
   },
   "outputs": [],
   "source": [
    "similar_to_rick = sim_df['rick']\n",
    "display(similar_to_rick.sort_values(ascending=True).iloc[1:4])"
   ]
  },
  {
   "cell_type": "code",
   "execution_count": 4,
   "metadata": {
    "scrolled": true
   },
   "outputs": [
    {
     "name": "stdout",
     "output_type": "stream",
     "text": [
      "CPU times: user 2 µs, sys: 0 ns, total: 2 µs\n",
      "Wall time: 5.72 µs\n"
     ]
    },
    {
     "data": {
      "text/plain": [
       "'{\"morty\":441.5155716393,\"jerry\":523.0793438858,\"beth\":530.7042490879}'"
      ]
     },
     "execution_count": 4,
     "metadata": {},
     "output_type": "execute_result"
    }
   ],
   "source": [
    " \n",
    "recommender.most_similar_users('rick', top=3)"
   ]
  },
  {
   "cell_type": "code",
   "execution_count": null,
   "metadata": {
    "scrolled": true
   },
   "outputs": [],
   "source": [
    "USERSquery =query\n",
    "[e['username'] for e in USERSquery]"
   ]
  },
  {
   "cell_type": "code",
   "execution_count": null,
   "metadata": {},
   "outputs": [],
   "source": []
  },
  {
   "cell_type": "markdown",
   "metadata": {},
   "source": [
    "### 9 - Move local database to MongoAtlas cloud"
   ]
  },
  {
   "cell_type": "code",
   "execution_count": null,
   "metadata": {},
   "outputs": [],
   "source": []
  },
  {
   "cell_type": "markdown",
   "metadata": {},
   "source": [
    "### 10 - Prepare Docker Image"
   ]
  },
  {
   "cell_type": "code",
   "execution_count": null,
   "metadata": {},
   "outputs": [],
   "source": []
  },
  {
   "cell_type": "markdown",
   "metadata": {},
   "source": [
    "### 11  - Deploy Docker Image in Heroku"
   ]
  },
  {
   "cell_type": "code",
   "execution_count": null,
   "metadata": {},
   "outputs": [],
   "source": [
    "# Some basic checking:\n",
    "Is there a chat "
   ]
  }
 ],
 "metadata": {
  "kernelspec": {
   "display_name": "Python 3.6.9 64-bit",
   "language": "python",
   "name": "python36964bit17c6ebb0882a44ad96e177b7fffe16a0"
  },
  "language_info": {
   "codemirror_mode": {
    "name": "ipython",
    "version": 3
   },
   "file_extension": ".py",
   "mimetype": "text/x-python",
   "name": "python",
   "nbconvert_exporter": "python",
   "pygments_lexer": "ipython3",
   "version": "3.6.9"
  }
 },
 "nbformat": 4,
 "nbformat_minor": 4
}
