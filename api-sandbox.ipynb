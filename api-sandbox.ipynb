{
 "cells": [
  {
   "cell_type": "markdown",
   "metadata": {},
   "source": [
    "# Set up the connection to MongoDB"
   ]
  },
  {
   "cell_type": "code",
   "execution_count": 1,
   "metadata": {
    "scrolled": true
   },
   "outputs": [
    {
     "name": "stdout",
     "output_type": "stream",
     "text": [
      "Connected to MongoClient at: mongodb://localhost:27017\n"
     ]
    }
   ],
   "source": [
    "import nltk\n",
    "import requests\n",
    "import pandas as pd\n",
    "from nltk.sentiment.vader import SentimentIntensityAnalyzer\n",
    "from pymongo import MongoClient\n",
    "from mongohandler import *\n",
    "from IPython.display import display, HTML\n",
    "import matplotlib.pyplot as plt\n",
    "from bson.son import SON\n",
    "from src.config import *\n",
    "\n",
    "# IMPORTANT : Remember to start mongodb server\n",
    "# run $ sudo systemctl start mongod\n",
    "# Also, start the api.py Flask server\n",
    "#     $ python3 api.py"
   ]
  },
  {
   "cell_type": "code",
   "execution_count": 2,
   "metadata": {},
   "outputs": [
    {
     "name": "stdout",
     "output_type": "stream",
     "text": [
      "Connected to MongoClient at: mongodb://localhost:27017\n"
     ]
    },
    {
     "name": "stderr",
     "output_type": "stream",
     "text": [
      "[nltk_data] Downloading package vader_lexicon to /home/rh/nltk_data...\n",
      "[nltk_data]   Package vader_lexicon is already up-to-date!\n"
     ]
    },
    {
     "data": {
      "text/plain": [
       "True"
      ]
     },
     "execution_count": 2,
     "metadata": {},
     "output_type": "execute_result"
    }
   ],
   "source": [
    "client = MongoClient(DBURL)\n",
    "db = client.messenger\n",
    "print(f\"Connected to MongoClient at: {DBURL}\")\n",
    "nltk.download('vader_lexicon')"
   ]
  },
  {
   "cell_type": "markdown",
   "metadata": {},
   "source": [
    "# Trying out our basic functions\n",
    "\n",
    "To interact with the Messenger API we will use the python built-in `requests` module.\n",
    "\n",
    "These aditionally, we will leverage on MongoDB as a database to store all relevant data for the `users` `chats` and `messages`. To do this, a `mongohandler` module with functions has also been developed and imported."
   ]
  },
  {
   "cell_type": "markdown",
   "metadata": {},
   "source": [
    "### To begin, lets use some scripts from the TV Show `Rick and Morty` to seed out API."
   ]
  },
  {
   "cell_type": "code",
   "execution_count": 3,
   "metadata": {},
   "outputs": [
    {
     "data": {
      "text/html": [
       "<div>\n",
       "<style scoped>\n",
       "    .dataframe tbody tr th:only-of-type {\n",
       "        vertical-align: middle;\n",
       "    }\n",
       "\n",
       "    .dataframe tbody tr th {\n",
       "        vertical-align: top;\n",
       "    }\n",
       "\n",
       "    .dataframe thead th {\n",
       "        text-align: right;\n",
       "    }\n",
       "</style>\n",
       "<table border=\"1\" class=\"dataframe\">\n",
       "  <thead>\n",
       "    <tr style=\"text-align: right;\">\n",
       "      <th></th>\n",
       "      <th>index</th>\n",
       "      <th>season no.</th>\n",
       "      <th>episode no.</th>\n",
       "      <th>episode name</th>\n",
       "      <th>name</th>\n",
       "      <th>line</th>\n",
       "    </tr>\n",
       "  </thead>\n",
       "  <tbody>\n",
       "    <tr>\n",
       "      <th>0</th>\n",
       "      <td>0</td>\n",
       "      <td>1</td>\n",
       "      <td>1</td>\n",
       "      <td>Pilot</td>\n",
       "      <td>Rick</td>\n",
       "      <td>Morty! You gotta come on. Jus'... you gotta co...</td>\n",
       "    </tr>\n",
       "    <tr>\n",
       "      <th>1</th>\n",
       "      <td>1</td>\n",
       "      <td>1</td>\n",
       "      <td>1</td>\n",
       "      <td>Pilot</td>\n",
       "      <td>Morty</td>\n",
       "      <td>What, Rick? What’s going on?</td>\n",
       "    </tr>\n",
       "    <tr>\n",
       "      <th>2</th>\n",
       "      <td>2</td>\n",
       "      <td>1</td>\n",
       "      <td>1</td>\n",
       "      <td>Pilot</td>\n",
       "      <td>Rick</td>\n",
       "      <td>I got a surprise for you, Morty.</td>\n",
       "    </tr>\n",
       "  </tbody>\n",
       "</table>\n",
       "</div>"
      ],
      "text/plain": [
       "   index  season no.  episode no. episode name   name  \\\n",
       "0      0           1            1        Pilot   Rick   \n",
       "1      1           1            1        Pilot  Morty   \n",
       "2      2           1            1        Pilot   Rick   \n",
       "\n",
       "                                                line  \n",
       "0  Morty! You gotta come on. Jus'... you gotta co...  \n",
       "1                       What, Rick? What’s going on?  \n",
       "2                   I got a surprise for you, Morty.  "
      ]
     },
     "execution_count": 3,
     "metadata": {},
     "output_type": "execute_result"
    }
   ],
   "source": [
    "df = pd.read_csv('INPUT/RickAndMortyScripts.csv')\n",
    "df.head(3)"
   ]
  },
  {
   "cell_type": "markdown",
   "metadata": {},
   "source": [
    "### 1 - Create Users:\n",
    "Endpoint: `/user/create/<username>`"
   ]
  },
  {
   "cell_type": "code",
   "execution_count": 4,
   "metadata": {
    "scrolled": false
   },
   "outputs": [
    {
     "name": "stdout",
     "output_type": "stream",
     "text": [
      "['Rick', 'Morty', 'Beth', 'Jerry', 'Summer', 'Pickle Rick', 'Supernova', 'Cop Morty']\n"
     ]
    }
   ],
   "source": [
    "usernames = [e for e in df.name.value_counts().index]\n",
    "print(usernames[:8])"
   ]
  },
  {
   "cell_type": "code",
   "execution_count": 5,
   "metadata": {
    "scrolled": false
   },
   "outputs": [
    {
     "name": "stdout",
     "output_type": "stream",
     "text": [
      "We have tried to create 48 users.\n",
      "Last recorded event : \n"
     ]
    },
    {
     "data": {
      "text/html": [
       "\n",
       "        <b>User has been created </b>       <br>\n",
       "        <b>The new username: </b>summer_1  <br>        \n",
       "        <b>user_id:</b> 5eaec553d4eb950834d3a313"
      ],
      "text/plain": [
       "<IPython.core.display.HTML object>"
      ]
     },
     "metadata": {},
     "output_type": "display_data"
    }
   ],
   "source": [
    "def import_usernames(usernames):\n",
    "    for user in usernames:\n",
    "        route = f'/user/create/{user}'\n",
    "        res = requests.get(flask_api+route)\n",
    "    #returns only the last response\n",
    "    return res\n",
    "\n",
    "last_response = import_usernames(usernames)\n",
    "print(f'We have tried to create {len(usernames)} users.')\n",
    "print(\"Last recorded event : \")    \n",
    "display(HTML(last_response.text)) # Last user created    "
   ]
  },
  {
   "cell_type": "markdown",
   "metadata": {},
   "source": [
    "### 2 - Create Public Chats\n",
    "To do this, we will group the df by episode name, and use that variable as the `chat_title` to send to the API. Also, this group by allows us to see a list of the characters present on each episode."
   ]
  },
  {
   "cell_type": "markdown",
   "metadata": {},
   "source": [
    "Use this as an index to later create the group with the right members\n"
   ]
  },
  {
   "cell_type": "code",
   "execution_count": 6,
   "metadata": {
    "scrolled": true
   },
   "outputs": [
    {
     "data": {
      "text/html": [
       "<div>\n",
       "<style scoped>\n",
       "    .dataframe tbody tr th:only-of-type {\n",
       "        vertical-align: middle;\n",
       "    }\n",
       "\n",
       "    .dataframe tbody tr th {\n",
       "        vertical-align: top;\n",
       "    }\n",
       "\n",
       "    .dataframe thead th {\n",
       "        text-align: right;\n",
       "    }\n",
       "</style>\n",
       "<table border=\"1\" class=\"dataframe\">\n",
       "  <thead>\n",
       "    <tr style=\"text-align: right;\">\n",
       "      <th></th>\n",
       "      <th></th>\n",
       "      <th>line</th>\n",
       "    </tr>\n",
       "    <tr>\n",
       "      <th>episode name</th>\n",
       "      <th>name</th>\n",
       "      <th></th>\n",
       "    </tr>\n",
       "  </thead>\n",
       "  <tbody>\n",
       "    <tr>\n",
       "      <th rowspan=\"6\" valign=\"top\">A Rickle in Time</th>\n",
       "      <th>All Mortys</th>\n",
       "      <td>15</td>\n",
       "    </tr>\n",
       "    <tr>\n",
       "      <th>All Ricks</th>\n",
       "      <td>32</td>\n",
       "    </tr>\n",
       "    <tr>\n",
       "      <th>All Summers</th>\n",
       "      <td>13</td>\n",
       "    </tr>\n",
       "    <tr>\n",
       "      <th>Beth</th>\n",
       "      <td>30</td>\n",
       "    </tr>\n",
       "    <tr>\n",
       "      <th>Jerry</th>\n",
       "      <td>25</td>\n",
       "    </tr>\n",
       "    <tr>\n",
       "      <th>Morty</th>\n",
       "      <td>24</td>\n",
       "    </tr>\n",
       "  </tbody>\n",
       "</table>\n",
       "</div>"
      ],
      "text/plain": [
       "                              line\n",
       "episode name     name             \n",
       "A Rickle in Time All Mortys     15\n",
       "                 All Ricks      32\n",
       "                 All Summers    13\n",
       "                 Beth           30\n",
       "                 Jerry          25\n",
       "                 Morty          24"
      ]
     },
     "metadata": {},
     "output_type": "display_data"
    }
   ],
   "source": [
    "chats_outline = df.groupby(['episode name', 'name']).agg({'line':'count'})\n",
    "display(chats_outline.head(6))"
   ]
  },
  {
   "cell_type": "markdown",
   "metadata": {},
   "source": [
    "Also, create a list of all the episodes we are going to upload"
   ]
  },
  {
   "cell_type": "code",
   "execution_count": 7,
   "metadata": {
    "scrolled": false
   },
   "outputs": [
    {
     "data": {
      "text/plain": [
       "array(['Pilot', 'Lawnmower Dog', 'Rick Potion 9', 'A Rickle in Time',\n",
       "       'The Wedding Squanchers', 'Get Schwifty',\n",
       "       'Interdimensional Cable 2  Tempting Fate',\n",
       "       'The Rickshank Rickdemption', 'Pickle Rick',\n",
       "       'Vindicators 3  The Return of Worldender',\n",
       "       'Tales From the Citadel'], dtype=object)"
      ]
     },
     "execution_count": 7,
     "metadata": {},
     "output_type": "execute_result"
    }
   ],
   "source": [
    "all_chat_titles = df['episode name'].drop_duplicates().values\n",
    "all_chat_titles"
   ]
  },
  {
   "cell_type": "markdown",
   "metadata": {},
   "source": [
    "#### Sending a request to the API, for every available `chat_tile & usernames` group"
   ]
  },
  {
   "cell_type": "code",
   "execution_count": 8,
   "metadata": {
    "scrolled": false
   },
   "outputs": [],
   "source": [
    "def create_chat(chat_title, participants):\n",
    "    route = f\"/chat/create?title={chat_title}&users={participants}\"\n",
    "    res = requests.get(flask_api+route)\n",
    "    return res"
   ]
  },
  {
   "cell_type": "code",
   "execution_count": 9,
   "metadata": {},
   "outputs": [
    {
     "name": "stdout",
     "output_type": "stream",
     "text": [
      "Last recorded event's http response: \n"
     ]
    },
    {
     "data": {
      "text/html": [
       "A new chat room has been created! <br> <b>Title</b>:tales_from_the_citadel <br> <b>Users</b>:['Campaign Manager Morty', 'Candidate Morty', 'Cop Morty', 'Cop Rick', 'Glasses Morty', 'Lizard Morty', 'Morty', 'Morty 1', 'Morty 2', 'Narrator', 'Rick', 'Rick J-22', 'Slick', 'Teacher Rick'] <br> <b>Chat_id</b>: 5eaec554d4eb950834d3a31e "
      ],
      "text/plain": [
       "<IPython.core.display.HTML object>"
      ]
     },
     "metadata": {},
     "output_type": "display_data"
    }
   ],
   "source": [
    "for chat_title in all_chat_titles:\n",
    "    participants = list(chats_outline.loc[chat_title].index) # These are the chat_titles and usernames\n",
    "    res = create_chat(chat_title, participants)\n",
    "\n",
    "    \n",
    "print(\"Last recorded event's http response: \")    \n",
    "display(HTML(res.text))"
   ]
  },
  {
   "cell_type": "markdown",
   "metadata": {},
   "source": [
    "### 3 - Add New Users to an existing chat\n",
    "To do this, I have create a new dummy user `rihp`, and added it to the `get_schwifty` chat."
   ]
  },
  {
   "cell_type": "code",
   "execution_count": 10,
   "metadata": {},
   "outputs": [],
   "source": [
    "def add_user_to_chat(username, chat_title):\n",
    "    route = f\"/chat/{chat_title}/adduser?&username={username}\"\n",
    "    res = requests.get(flask_api+route)\n",
    "    return res"
   ]
  },
  {
   "cell_type": "code",
   "execution_count": 11,
   "metadata": {},
   "outputs": [
    {
     "data": {
      "text/html": [
       "\n",
       "        <b>User has been created </b>       <br>\n",
       "        <b>The new username: </b>rihp  <br>        \n",
       "        <b>user_id:</b> 5eaec554d4eb950834d3a31f"
      ],
      "text/plain": [
       "<IPython.core.display.HTML object>"
      ]
     },
     "metadata": {},
     "output_type": "display_data"
    },
    {
     "name": "stdout",
     "output_type": "stream",
     "text": [
      "------------------------------------------------------\n"
     ]
    },
    {
     "data": {
      "text/html": [
       "<b>rihp</b> has been added to <b>get_schwifty</b>. <br> chat_id:5eaec554d4eb950834d3a319 <br>user_id:5eaec554d4eb950834d3a31f"
      ],
      "text/plain": [
       "<IPython.core.display.HTML object>"
      ]
     },
     "metadata": {},
     "output_type": "display_data"
    }
   ],
   "source": [
    "username=['rihp']\n",
    "chat_title = \"get_schwifty\"\n",
    "\n",
    "res = import_usernames(username)\n",
    "display(HTML(res.text))\n",
    "print('------------------------------------------------------')\n",
    "res = add_user_to_chat(*username, chat_title)\n",
    "display(HTML(res.text))"
   ]
  },
  {
   "cell_type": "markdown",
   "metadata": {},
   "source": [
    "username='rihp'\n",
    "chat_title = \"get_schwifty\"\n",
    "\n",
    "import_usernames(['rihp'])\n",
    "res = requests.get(flask_api+f'/user/create/{username}')\n",
    "display(HTML(res.text))\n",
    "print('------------------------------------------------------')\n",
    "route = f\"/chat/{chat_title}/adduser?&username={username}\"\n",
    "res = requests.get(flask_api+route)\n",
    "display(HTML(res.text))"
   ]
  },
  {
   "cell_type": "markdown",
   "metadata": {},
   "source": [
    "### 4 - Add Messages to a public chat\n",
    "Using our dataset, we will use the following columns to populate our collection of `messages`"
   ]
  },
  {
   "cell_type": "markdown",
   "metadata": {
    "scrolled": false
   },
   "source": [
    "#### To send a message, the user must be part of the chat\n",
    "This function is buggy and prints a lot of verbose.\n",
    "Please fix \n",
    "\n",
    "`check_user_in_chat('rihp', 'pickle_rick')`"
   ]
  },
  {
   "cell_type": "code",
   "execution_count": 12,
   "metadata": {
    "scrolled": false
   },
   "outputs": [
    {
     "data": {
      "text/html": [
       "<div>\n",
       "<style scoped>\n",
       "    .dataframe tbody tr th:only-of-type {\n",
       "        vertical-align: middle;\n",
       "    }\n",
       "\n",
       "    .dataframe tbody tr th {\n",
       "        vertical-align: top;\n",
       "    }\n",
       "\n",
       "    .dataframe thead th {\n",
       "        text-align: right;\n",
       "    }\n",
       "</style>\n",
       "<table border=\"1\" class=\"dataframe\">\n",
       "  <thead>\n",
       "    <tr style=\"text-align: right;\">\n",
       "      <th></th>\n",
       "      <th>episode name</th>\n",
       "      <th>name</th>\n",
       "      <th>line</th>\n",
       "    </tr>\n",
       "  </thead>\n",
       "  <tbody>\n",
       "    <tr>\n",
       "      <th>0</th>\n",
       "      <td>Pilot</td>\n",
       "      <td>Rick</td>\n",
       "      <td>Morty! You gotta come on. Jus'... you gotta co...</td>\n",
       "    </tr>\n",
       "    <tr>\n",
       "      <th>1</th>\n",
       "      <td>Pilot</td>\n",
       "      <td>Morty</td>\n",
       "      <td>What, Rick? What’s going on?</td>\n",
       "    </tr>\n",
       "    <tr>\n",
       "      <th>2</th>\n",
       "      <td>Pilot</td>\n",
       "      <td>Rick</td>\n",
       "      <td>I got a surprise for you, Morty.</td>\n",
       "    </tr>\n",
       "  </tbody>\n",
       "</table>\n",
       "</div>"
      ],
      "text/plain": [
       "  episode name   name                                               line\n",
       "0        Pilot   Rick  Morty! You gotta come on. Jus'... you gotta co...\n",
       "1        Pilot  Morty                       What, Rick? What’s going on?\n",
       "2        Pilot   Rick                   I got a surprise for you, Morty."
      ]
     },
     "execution_count": 12,
     "metadata": {},
     "output_type": "execute_result"
    }
   ],
   "source": [
    "m_outline = df[['episode name', 'name', 'line']]\n",
    "m_outline.head(3)"
   ]
  },
  {
   "cell_type": "markdown",
   "metadata": {
    "scrolled": true
   },
   "source": [
    "m_outline[m_outline['episode name'] == 'Pickle Rick'].tail(3)"
   ]
  },
  {
   "cell_type": "markdown",
   "metadata": {},
   "source": [
    "### The execution of these cells is not very efficient\n",
    "they send all the messages to the database"
   ]
  },
  {
   "cell_type": "code",
   "execution_count": 13,
   "metadata": {},
   "outputs": [],
   "source": [
    "def send_message(username, chat_title, text):\n",
    "    route = f\"/chat/{chat_title}/addmessage?username={username}&text={text}\"\n",
    "    res = requests.get(flask_api+route)\n",
    "    return res"
   ]
  },
  {
   "cell_type": "code",
   "execution_count": 14,
   "metadata": {},
   "outputs": [
    {
     "name": "stdout",
     "output_type": "stream",
     "text": [
      "Last recorded event (The http response): \n"
     ]
    },
    {
     "data": {
      "text/html": [
       "Message sent to <b>Tales From the Citadel</b>!  <br><p><i>Whoo! Yeah! Yeaah! Ohhh, shit!</i><br>chat_id: 5eaec554d4eb950834d3a31e<br> message_id: 5eaec56dd4eb950834d3aa90<br> user_id: 5eaec553d4eb950834d3a2e5</p>"
      ],
      "text/plain": [
       "<IPython.core.display.HTML object>"
      ]
     },
     "metadata": {},
     "output_type": "display_data"
    }
   ],
   "source": [
    "for i in m_outline.index:\n",
    "    message = m_outline.iloc[i]                         # Locate the message\n",
    "    chat_title = message['episode name']                # Define the episode name\n",
    "    username = message['name']                          # Define the username  \n",
    "    text = message['line']                              # Define the message text\n",
    "    res  = send_message(username, chat_title, text)# <----SEND MESSAGE TO API------\n",
    "print(\"Last recorded event (The http response): \")    \n",
    "display(HTML(res.text))"
   ]
  },
  {
   "cell_type": "markdown",
   "metadata": {},
   "source": [
    "### 5 - Query all the messages sent to an specific chat\n",
    "- (GET) `/chat/<chat_id>/list`"
   ]
  },
  {
   "cell_type": "markdown",
   "metadata": {},
   "source": [
    "Aggregate the messages in the chat, using this pipeline query on our Mongo Database"
   ]
  },
  {
   "cell_type": "code",
   "execution_count": 15,
   "metadata": {},
   "outputs": [],
   "source": [
    "cur = db.chat.aggregate([{'$lookup': {\n",
    "                            'from': 'messages',             # Use the messages collection\n",
    "                            'localField': 'messages',   \n",
    "                            'foreignField': '_id',     \n",
    "                            'as': 'messages'}\n",
    "                        }, \n",
    "                         {'$project': {\n",
    "                            '_id': 1, \n",
    "                            'title': 1, \n",
    "                            'participants': 1, \n",
    "                            'messages': {\n",
    "                                'text': 1, \n",
    "                                'username': 1}\n",
    "                        }}])\n",
    "query = list(cur)"
   ]
  },
  {
   "cell_type": "markdown",
   "metadata": {},
   "source": [
    "### Access the specific chat and display some of the messages\n",
    "This is not the specific chat, its only the first one in the list. fix this"
   ]
  },
  {
   "cell_type": "code",
   "execution_count": 16,
   "metadata": {
    "scrolled": false
   },
   "outputs": [
    {
     "data": {
      "text/plain": [
       "[(0, 'pilot'),\n",
       " (1, 'lawnmower_dog'),\n",
       " (2, 'rick_potion_9'),\n",
       " (3, 'a_rickle_in_time'),\n",
       " (4, 'the_wedding_squanchers'),\n",
       " (5, 'get_schwifty'),\n",
       " (6, 'interdimensional_cable_2__tempting_fate'),\n",
       " (7, 'the_rickshank_rickdemption'),\n",
       " (8, 'pickle_rick'),\n",
       " (9, 'vindicators_3__the_return_of_worldender'),\n",
       " (10, 'tales_from_the_citadel')]"
      ]
     },
     "execution_count": 16,
     "metadata": {},
     "output_type": "execute_result"
    }
   ],
   "source": [
    "all_chat_titles = list(enumerate([doc['title'] for doc in query]))\n",
    "all_chat_titles"
   ]
  },
  {
   "cell_type": "markdown",
   "metadata": {},
   "source": [
    "### Access the first 5 lines of the `Pickle Rick` episode, index `8`"
   ]
  },
  {
   "cell_type": "code",
   "execution_count": 17,
   "metadata": {
    "scrolled": false
   },
   "outputs": [
    {
     "name": "stdout",
     "output_type": "stream",
     "text": [
      "Morty.\n",
      "Rick?\n",
      "Morty!\n",
      "Rick?\n",
      "Hey, Mooorty!\n"
     ]
    }
   ],
   "source": [
    "for i in range(5):\n",
    "    print(query[8]['messages'][i]['text']) "
   ]
  },
  {
   "cell_type": "markdown",
   "metadata": {},
   "source": [
    "### 6 - Perform a Sentiment analysis on an specific chat message history\n",
    "- (GET) `/chat/<chat_id>/sentiment`\n",
    "\n",
    "In this case, we will start analyzing Rick and Morty's (Season 1, Episode 5), `Get Schwifty`."
   ]
  },
  {
   "cell_type": "code",
   "execution_count": 18,
   "metadata": {},
   "outputs": [],
   "source": [
    "# This function takes in a pymongo query cursor\n",
    "# which has already been turned into a list\n",
    "# and looks for an specific chat title.\n",
    "\n",
    "def get_chat_doc(chat_title, query):\n",
    "    for i in range(len(query)):\n",
    "        if query[i]['title'] == chat_title:\n",
    "            yield query[i]"
   ]
  },
  {
   "cell_type": "markdown",
   "metadata": {},
   "source": [
    "#### Set the chat_title variable"
   ]
  },
  {
   "cell_type": "code",
   "execution_count": 19,
   "metadata": {},
   "outputs": [],
   "source": [
    "episode = 'Get Schwifty'\n",
    "chat_title = no_spaces(episode).lower()\n",
    "chat_messages = list(get_chat_doc(chat_title, query))[0]['messages']\n",
    "\n",
    "if len(chat_messages) != df['episode name'].value_counts()[episode]: \n",
    "    raise Exception('something is wrong here, the database has more messages than it should have')"
   ]
  },
  {
   "cell_type": "markdown",
   "metadata": {},
   "source": [
    "#### Begin the sentiment analysis of that chat room"
   ]
  },
  {
   "cell_type": "code",
   "execution_count": 20,
   "metadata": {},
   "outputs": [],
   "source": [
    "sia = SentimentIntensityAnalyzer()"
   ]
  },
  {
   "cell_type": "code",
   "execution_count": 21,
   "metadata": {},
   "outputs": [],
   "source": [
    "def analyze_chat_sentiment(chat_messages):\n",
    "    for i in range(len(chat_messages)):\n",
    "        text = chat_messages[i]['text']\n",
    "        yield sia.polarity_scores(text) # Analyze this"
   ]
  },
  {
   "cell_type": "code",
   "execution_count": 22,
   "metadata": {
    "scrolled": false
   },
   "outputs": [
    {
     "name": "stdout",
     "output_type": "stream",
     "text": [
      "Sentiment analysis for the chat: \n",
      " get_schwifty\n"
     ]
    },
    {
     "data": {
      "text/html": [
       "<div>\n",
       "<style scoped>\n",
       "    .dataframe tbody tr th:only-of-type {\n",
       "        vertical-align: middle;\n",
       "    }\n",
       "\n",
       "    .dataframe tbody tr th {\n",
       "        vertical-align: top;\n",
       "    }\n",
       "\n",
       "    .dataframe thead th {\n",
       "        text-align: right;\n",
       "    }\n",
       "</style>\n",
       "<table border=\"1\" class=\"dataframe\">\n",
       "  <thead>\n",
       "    <tr style=\"text-align: right;\">\n",
       "      <th></th>\n",
       "      <th>neg</th>\n",
       "      <th>neu</th>\n",
       "      <th>pos</th>\n",
       "      <th>compound</th>\n",
       "    </tr>\n",
       "  </thead>\n",
       "  <tbody>\n",
       "    <tr>\n",
       "      <th>count</th>\n",
       "      <td>221.000000</td>\n",
       "      <td>221.000000</td>\n",
       "      <td>221.000000</td>\n",
       "      <td>221.000000</td>\n",
       "    </tr>\n",
       "    <tr>\n",
       "      <th>mean</th>\n",
       "      <td>0.104633</td>\n",
       "      <td>0.780190</td>\n",
       "      <td>0.115186</td>\n",
       "      <td>0.046848</td>\n",
       "    </tr>\n",
       "    <tr>\n",
       "      <th>std</th>\n",
       "      <td>0.200661</td>\n",
       "      <td>0.239887</td>\n",
       "      <td>0.187185</td>\n",
       "      <td>0.433142</td>\n",
       "    </tr>\n",
       "    <tr>\n",
       "      <th>min</th>\n",
       "      <td>0.000000</td>\n",
       "      <td>0.000000</td>\n",
       "      <td>0.000000</td>\n",
       "      <td>-0.891000</td>\n",
       "    </tr>\n",
       "    <tr>\n",
       "      <th>25%</th>\n",
       "      <td>0.000000</td>\n",
       "      <td>0.647000</td>\n",
       "      <td>0.000000</td>\n",
       "      <td>-0.102700</td>\n",
       "    </tr>\n",
       "    <tr>\n",
       "      <th>50%</th>\n",
       "      <td>0.000000</td>\n",
       "      <td>0.809000</td>\n",
       "      <td>0.000000</td>\n",
       "      <td>0.000000</td>\n",
       "    </tr>\n",
       "    <tr>\n",
       "      <th>75%</th>\n",
       "      <td>0.133000</td>\n",
       "      <td>1.000000</td>\n",
       "      <td>0.191000</td>\n",
       "      <td>0.361200</td>\n",
       "    </tr>\n",
       "    <tr>\n",
       "      <th>max</th>\n",
       "      <td>1.000000</td>\n",
       "      <td>1.000000</td>\n",
       "      <td>1.000000</td>\n",
       "      <td>0.978500</td>\n",
       "    </tr>\n",
       "  </tbody>\n",
       "</table>\n",
       "</div>"
      ],
      "text/plain": [
       "              neg         neu         pos    compound\n",
       "count  221.000000  221.000000  221.000000  221.000000\n",
       "mean     0.104633    0.780190    0.115186    0.046848\n",
       "std      0.200661    0.239887    0.187185    0.433142\n",
       "min      0.000000    0.000000    0.000000   -0.891000\n",
       "25%      0.000000    0.647000    0.000000   -0.102700\n",
       "50%      0.000000    0.809000    0.000000    0.000000\n",
       "75%      0.133000    1.000000    0.191000    0.361200\n",
       "max      1.000000    1.000000    1.000000    0.978500"
      ]
     },
     "metadata": {},
     "output_type": "display_data"
    }
   ],
   "source": [
    "print(f\"Sentiment analysis for the chat: \\n {chat_title}\")\n",
    "sentiment = pd.DataFrame(list(analyze_chat_sentiment(chat_messages)))\n",
    "display(sentiment.describe())"
   ]
  },
  {
   "cell_type": "markdown",
   "metadata": {},
   "source": [
    "#### Get the mean compound for all the chats"
   ]
  },
  {
   "cell_type": "code",
   "execution_count": 23,
   "metadata": {
    "scrolled": true
   },
   "outputs": [],
   "source": [
    "def get_chats_sia_scores(all_chat_titles):\n",
    "    overall_scores = {}\n",
    "    for episode_num, chat_title in all_chat_titles:\n",
    "        chat_messages = list(get_chat_doc(chat_title, query))[0]['messages']\n",
    "        sentiment = pd.DataFrame(list(analyze_chat_sentiment(chat_messages)))\n",
    "        overall_scores.update({chat_title:sentiment.describe().loc['mean']['compound']})\n",
    "    return pd.DataFrame.from_dict(overall_scores, orient='index', columns=['mean_compound_score'])"
   ]
  },
  {
   "cell_type": "code",
   "execution_count": 24,
   "metadata": {
    "scrolled": true
   },
   "outputs": [
    {
     "data": {
      "text/plain": [
       "<BarContainer object of 11 artists>"
      ]
     },
     "execution_count": 24,
     "metadata": {},
     "output_type": "execute_result"
    },
    {
     "data": {
      "image/png": "[encoded data removed]",
      "text/plain": [
       "<Figure size 1080x216 with 1 Axes>"
      ]
     },
     "metadata": {
      "needs_background": "light"
     },
     "output_type": "display_data"
    }
   ],
   "source": [
    "all_chats_sia_scores = get_chats_sia_scores(all_chat_titles)\n",
    "plt.figure(figsize=(15,3))\n",
    "plt.xticks(rotation=80)\n",
    "plt.xlabel('EPISODES')\n",
    "plt.ylabel('SENTIMENT INTENSITY SCORE')\n",
    "plt.title('RICK AND MORTY SENTIMENT INTENSITY MEAN COMPOUND SCORE PER EPISODE')\n",
    "plt.bar(all_chats_sia_scores.index,all_chats_sia_scores.mean_compound_score )"
   ]
  },
  {
   "cell_type": "markdown",
   "metadata": {},
   "source": [
    "### 7 - Query all the messages sent from an specific user"
   ]
  },
  {
   "cell_type": "code",
   "execution_count": 25,
   "metadata": {},
   "outputs": [],
   "source": [
    "cur = db.user.aggregate([{'$lookup': {\n",
    "                                'from': 'messages',             \n",
    "                                'localField': 'messages_sent', \n",
    "                                'foreignField': '_id', \n",
    "                                'as': 'all_messages'}\n",
    "                        },\n",
    "                         {'$project': {\n",
    "                                'username': 1,\n",
    "                                'all_messages': {\n",
    "                                    'text': 1}}}])\n",
    "query = list(cur)"
   ]
  },
  {
   "cell_type": "markdown",
   "metadata": {},
   "source": [
    "Use a query, find a username and create an iterator that includes all the messages from that username"
   ]
  },
  {
   "cell_type": "code",
   "execution_count": 26,
   "metadata": {},
   "outputs": [],
   "source": [
    "def iter_messages_from_user(query, username):\n",
    "    for user_doc in query:                               # Exploring the query\n",
    "        if user_doc['_id'] == get_user_id(username):     # Finding an specific user id   \n",
    "            for message in user_doc['all_messages']:     # Looping through the messages\n",
    "                yield message['text']                    # Analyze these raw strings"
   ]
  },
  {
   "cell_type": "code",
   "execution_count": 37,
   "metadata": {},
   "outputs": [],
   "source": [
    "username = 'Morty'"
   ]
  },
  {
   "cell_type": "code",
   "execution_count": 38,
   "metadata": {},
   "outputs": [
    {
     "data": {
      "text/plain": [
       "['What, Rick? What’s going on?',\n",
       " \"It's the middle of the night. What are you talking about?\"]"
      ]
     },
     "execution_count": 38,
     "metadata": {},
     "output_type": "execute_result"
    }
   ],
   "source": [
    "all_user_messages = list(iter_messages_from_user(query, username))   # As an array of strings\n",
    "all_user_messages[:2]"
   ]
  },
  {
   "cell_type": "markdown",
   "metadata": {},
   "source": [
    "Take an array of strings and create an iterator of SIA scores"
   ]
  },
  {
   "cell_type": "code",
   "execution_count": 39,
   "metadata": {},
   "outputs": [],
   "source": [
    "def iter_sia_scores(array_of_strings):\n",
    "    for i in range(len(array_of_strings)):\n",
    "        text = array_of_strings[i]            # Define the raw string to be analyzed\n",
    "        yield sia.polarity_scores(text)       # Yield the results of the Polarity Score for each message"
   ]
  },
  {
   "cell_type": "code",
   "execution_count": 40,
   "metadata": {},
   "outputs": [
    {
     "data": {
      "text/plain": [
       "[{'neg': 0.0, 'neu': 1.0, 'pos': 0.0, 'compound': 0.0},\n",
       " {'neg': 0.0, 'neu': 1.0, 'pos': 0.0, 'compound': 0.0}]"
      ]
     },
     "execution_count": 40,
     "metadata": {},
     "output_type": "execute_result"
    }
   ],
   "source": [
    "user_scores = list(iter_sia_scores(all_user_messages))\n",
    "user_scores[:2]"
   ]
  },
  {
   "cell_type": "markdown",
   "metadata": {},
   "source": [
    "#### Pass a list of sia scores, and return a pandas dataframe"
   ]
  },
  {
   "cell_type": "code",
   "execution_count": 50,
   "metadata": {
    "scrolled": false
   },
   "outputs": [
    {
     "name": "stdout",
     "output_type": "stream",
     "text": [
      "Describing sentiment intensity for user:\n",
      " Morty\n"
     ]
    },
    {
     "data": {
      "text/html": [
       "<div>\n",
       "<style scoped>\n",
       "    .dataframe tbody tr th:only-of-type {\n",
       "        vertical-align: middle;\n",
       "    }\n",
       "\n",
       "    .dataframe tbody tr th {\n",
       "        vertical-align: top;\n",
       "    }\n",
       "\n",
       "    .dataframe thead th {\n",
       "        text-align: right;\n",
       "    }\n",
       "</style>\n",
       "<table border=\"1\" class=\"dataframe\">\n",
       "  <thead>\n",
       "    <tr style=\"text-align: right;\">\n",
       "      <th></th>\n",
       "      <th>neg</th>\n",
       "      <th>neu</th>\n",
       "      <th>pos</th>\n",
       "      <th>compound</th>\n",
       "    </tr>\n",
       "  </thead>\n",
       "  <tbody>\n",
       "    <tr>\n",
       "      <th>count</th>\n",
       "      <td>347.000000</td>\n",
       "      <td>347.000000</td>\n",
       "      <td>347.000000</td>\n",
       "      <td>347.000000</td>\n",
       "    </tr>\n",
       "    <tr>\n",
       "      <th>mean</th>\n",
       "      <td>0.089723</td>\n",
       "      <td>0.793602</td>\n",
       "      <td>0.116657</td>\n",
       "      <td>0.029093</td>\n",
       "    </tr>\n",
       "    <tr>\n",
       "      <th>std</th>\n",
       "      <td>0.176656</td>\n",
       "      <td>0.248450</td>\n",
       "      <td>0.202260</td>\n",
       "      <td>0.379501</td>\n",
       "    </tr>\n",
       "    <tr>\n",
       "      <th>min</th>\n",
       "      <td>0.000000</td>\n",
       "      <td>0.000000</td>\n",
       "      <td>0.000000</td>\n",
       "      <td>-0.910800</td>\n",
       "    </tr>\n",
       "    <tr>\n",
       "      <th>25%</th>\n",
       "      <td>0.000000</td>\n",
       "      <td>0.645500</td>\n",
       "      <td>0.000000</td>\n",
       "      <td>0.000000</td>\n",
       "    </tr>\n",
       "    <tr>\n",
       "      <th>50%</th>\n",
       "      <td>0.000000</td>\n",
       "      <td>0.861000</td>\n",
       "      <td>0.000000</td>\n",
       "      <td>0.000000</td>\n",
       "    </tr>\n",
       "    <tr>\n",
       "      <th>75%</th>\n",
       "      <td>0.100500</td>\n",
       "      <td>1.000000</td>\n",
       "      <td>0.191500</td>\n",
       "      <td>0.273200</td>\n",
       "    </tr>\n",
       "    <tr>\n",
       "      <th>max</th>\n",
       "      <td>0.851000</td>\n",
       "      <td>1.000000</td>\n",
       "      <td>1.000000</td>\n",
       "      <td>0.955600</td>\n",
       "    </tr>\n",
       "  </tbody>\n",
       "</table>\n",
       "</div>"
      ],
      "text/plain": [
       "              neg         neu         pos    compound\n",
       "count  347.000000  347.000000  347.000000  347.000000\n",
       "mean     0.089723    0.793602    0.116657    0.029093\n",
       "std      0.176656    0.248450    0.202260    0.379501\n",
       "min      0.000000    0.000000    0.000000   -0.910800\n",
       "25%      0.000000    0.645500    0.000000    0.000000\n",
       "50%      0.000000    0.861000    0.000000    0.000000\n",
       "75%      0.100500    1.000000    0.191500    0.273200\n",
       "max      0.851000    1.000000    1.000000    0.955600"
      ]
     },
     "execution_count": 50,
     "metadata": {},
     "output_type": "execute_result"
    }
   ],
   "source": [
    "print(f\"Describing sentiment intensity for user:\\n {username}\") \n",
    "to_df = lambda x : pd.DataFrame(x)\n",
    "to_df(user_scores).describe()"
   ]
  },
  {
   "cell_type": "markdown",
   "metadata": {},
   "source": [
    "### 8 - Recommender system takes in an `user_id` and return top-3 similar `users`\n",
    "- (GET) `/user/<user_id>/recommend`"
   ]
  },
  {
   "cell_type": "code",
   "execution_count": null,
   "metadata": {},
   "outputs": [],
   "source": []
  },
  {
   "cell_type": "markdown",
   "metadata": {},
   "source": [
    "### 9 - Move local database to MongoAtlas cloud"
   ]
  },
  {
   "cell_type": "code",
   "execution_count": null,
   "metadata": {},
   "outputs": [],
   "source": []
  },
  {
   "cell_type": "markdown",
   "metadata": {},
   "source": [
    "### 10 - Prepare Docker Image"
   ]
  },
  {
   "cell_type": "code",
   "execution_count": null,
   "metadata": {},
   "outputs": [],
   "source": []
  },
  {
   "cell_type": "markdown",
   "metadata": {},
   "source": [
    "### 11  - Deploy Docker Image in Heroku"
   ]
  },
  {
   "cell_type": "code",
   "execution_count": null,
   "metadata": {},
   "outputs": [],
   "source": [
    "# Some basic checking:\n",
    "Is there a chat "
   ]
  }
 ],
 "metadata": {
  "kernelspec": {
   "display_name": "Python 3.6.9 64-bit",
   "language": "python",
   "name": "python36964bit17c6ebb0882a44ad96e177b7fffe16a0"
  },
  "language_info": {
   "codemirror_mode": {
    "name": "ipython",
    "version": 3
   },
   "file_extension": ".py",
   "mimetype": "text/x-python",
   "name": "python",
   "nbconvert_exporter": "python",
   "pygments_lexer": "ipython3",
   "version": "3.6.9"
  }
 },
 "nbformat": 4,
 "nbformat_minor": 4
}
