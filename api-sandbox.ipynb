{
 "cells": [
  {
   "cell_type": "markdown",
   "metadata": {},
   "source": [
    "# Set up the connection to MongoDB"
   ]
  },
  {
   "cell_type": "code",
   "execution_count": 1,
   "metadata": {
    "scrolled": true
   },
   "outputs": [
    {
     "name": "stdout",
     "output_type": "stream",
     "text": [
      "Connected to MongoClient at: mongodb://localhost:27017\n"
     ]
    }
   ],
   "source": [
    "import nltk\n",
    "import requests\n",
    "import pandas as pd\n",
    "from nltk.sentiment.vader import SentimentIntensityAnalyzer\n",
    "from pymongo import MongoClient\n",
    "from mongohandler import *\n",
    "from IPython.display import display, HTML\n",
    "import matplotlib.pyplot as plt\n",
    "from bson.son import SON\n",
    "from src.config import *\n",
    "\n",
    "# IMPORTANT : Remember to start mongodb server\n",
    "# run $ sudo systemctl start mongod\n",
    "# Also, start the api.py Flask server\n",
    "#     $ python3 api.py"
   ]
  },
  {
   "cell_type": "code",
   "execution_count": 2,
   "metadata": {},
   "outputs": [
    {
     "name": "stdout",
     "output_type": "stream",
     "text": [
      "Connected to MongoClient at: mongodb://localhost:27017\n"
     ]
    },
    {
     "name": "stderr",
     "output_type": "stream",
     "text": [
      "[nltk_data] Downloading package vader_lexicon to /home/rh/nltk_data...\n",
      "[nltk_data]   Package vader_lexicon is already up-to-date!\n"
     ]
    },
    {
     "data": {
      "text/plain": [
       "True"
      ]
     },
     "execution_count": 2,
     "metadata": {},
     "output_type": "execute_result"
    }
   ],
   "source": [
    "client = MongoClient(DBURL)\n",
    "db = client.messenger\n",
    "print(f\"Connected to MongoClient at: {DBURL}\")\n",
    "nltk.download('vader_lexicon')"
   ]
  },
  {
   "cell_type": "markdown",
   "metadata": {},
   "source": [
    "# Trying out our basic functions\n",
    "\n",
    "To interact with the Messenger API we will use the python built-in `requests` module.\n",
    "\n",
    "These aditionally, we will leverage on MongoDB as a database to store all relevant data for the `users` `chats` and `messages`. To do this, a `mongohandler` module with functions has also been developed and imported."
   ]
  },
  {
   "cell_type": "markdown",
   "metadata": {},
   "source": [
    "### To begin, lets use some scripts from the TV Show `Rick and Morty` to seed out API."
   ]
  },
  {
   "cell_type": "code",
   "execution_count": 3,
   "metadata": {},
   "outputs": [
    {
     "data": {
      "text/html": [
       "<div>\n",
       "<style scoped>\n",
       "    .dataframe tbody tr th:only-of-type {\n",
       "        vertical-align: middle;\n",
       "    }\n",
       "\n",
       "    .dataframe tbody tr th {\n",
       "        vertical-align: top;\n",
       "    }\n",
       "\n",
       "    .dataframe thead th {\n",
       "        text-align: right;\n",
       "    }\n",
       "</style>\n",
       "<table border=\"1\" class=\"dataframe\">\n",
       "  <thead>\n",
       "    <tr style=\"text-align: right;\">\n",
       "      <th></th>\n",
       "      <th>index</th>\n",
       "      <th>season no.</th>\n",
       "      <th>episode no.</th>\n",
       "      <th>episode name</th>\n",
       "      <th>name</th>\n",
       "      <th>line</th>\n",
       "    </tr>\n",
       "  </thead>\n",
       "  <tbody>\n",
       "    <tr>\n",
       "      <th>0</th>\n",
       "      <td>0</td>\n",
       "      <td>1</td>\n",
       "      <td>1</td>\n",
       "      <td>Pilot</td>\n",
       "      <td>Rick</td>\n",
       "      <td>Morty! You gotta come on. Jus'... you gotta co...</td>\n",
       "    </tr>\n",
       "    <tr>\n",
       "      <th>1</th>\n",
       "      <td>1</td>\n",
       "      <td>1</td>\n",
       "      <td>1</td>\n",
       "      <td>Pilot</td>\n",
       "      <td>Morty</td>\n",
       "      <td>What, Rick? What’s going on?</td>\n",
       "    </tr>\n",
       "    <tr>\n",
       "      <th>2</th>\n",
       "      <td>2</td>\n",
       "      <td>1</td>\n",
       "      <td>1</td>\n",
       "      <td>Pilot</td>\n",
       "      <td>Rick</td>\n",
       "      <td>I got a surprise for you, Morty.</td>\n",
       "    </tr>\n",
       "  </tbody>\n",
       "</table>\n",
       "</div>"
      ],
      "text/plain": [
       "   index  season no.  episode no. episode name   name  \\\n",
       "0      0           1            1        Pilot   Rick   \n",
       "1      1           1            1        Pilot  Morty   \n",
       "2      2           1            1        Pilot   Rick   \n",
       "\n",
       "                                                line  \n",
       "0  Morty! You gotta come on. Jus'... you gotta co...  \n",
       "1                       What, Rick? What’s going on?  \n",
       "2                   I got a surprise for you, Morty.  "
      ]
     },
     "execution_count": 3,
     "metadata": {},
     "output_type": "execute_result"
    }
   ],
   "source": [
    "df = pd.read_csv('INPUT/RickAndMortyScripts.csv')\n",
    "df.head(3)"
   ]
  },
  {
   "cell_type": "markdown",
   "metadata": {},
   "source": [
    "### 1 - Create Users:\n",
    "Endpoint: `/user/create/<username>`"
   ]
  },
  {
   "cell_type": "code",
   "execution_count": 4,
   "metadata": {
    "scrolled": false
   },
   "outputs": [
    {
     "name": "stdout",
     "output_type": "stream",
     "text": [
      "['Rick', 'Morty', 'Beth', 'Jerry', 'Summer', 'Pickle Rick', 'Supernova', 'Cop Morty']\n"
     ]
    }
   ],
   "source": [
    "usernames = [e for e in df.name.value_counts().index]\n",
    "print(usernames[:8])"
   ]
  },
  {
   "cell_type": "code",
   "execution_count": 5,
   "metadata": {
    "scrolled": false
   },
   "outputs": [
    {
     "name": "stdout",
     "output_type": "stream",
     "text": [
      "We have tried to create 48 users.\n",
      "Last recorded event : \n"
     ]
    },
    {
     "data": {
      "text/html": [
       "<b>Sorry. That username, 'summer_1' is already taken.</b> <br>Please choose a different username."
      ],
      "text/plain": [
       "<IPython.core.display.HTML object>"
      ]
     },
     "metadata": {},
     "output_type": "display_data"
    }
   ],
   "source": [
    "def import_usernames(usernames):\n",
    "    for user in usernames:\n",
    "        route = f'/user/create/{user}'\n",
    "        res = requests.get(flask_api+route)\n",
    "    #returns only the last response\n",
    "    return res\n",
    "\n",
    "last_response = import_usernames(usernames)\n",
    "print(f'We have tried to create {len(usernames)} users.')\n",
    "print(\"Last recorded event : \")    \n",
    "display(HTML(last_response.text)) # Last user created    "
   ]
  },
  {
   "cell_type": "markdown",
   "metadata": {},
   "source": [
    "### 2 - Create Public Chats\n",
    "To do this, we will group the df by episode name, and use that variable as the `chat_title` to send to the API. Also, this group by allows us to see a list of the characters present on each episode."
   ]
  },
  {
   "cell_type": "markdown",
   "metadata": {},
   "source": [
    "Use this as an index to later create the group with the right members\n"
   ]
  },
  {
   "cell_type": "code",
   "execution_count": 6,
   "metadata": {
    "scrolled": true
   },
   "outputs": [
    {
     "data": {
      "text/html": [
       "<div>\n",
       "<style scoped>\n",
       "    .dataframe tbody tr th:only-of-type {\n",
       "        vertical-align: middle;\n",
       "    }\n",
       "\n",
       "    .dataframe tbody tr th {\n",
       "        vertical-align: top;\n",
       "    }\n",
       "\n",
       "    .dataframe thead th {\n",
       "        text-align: right;\n",
       "    }\n",
       "</style>\n",
       "<table border=\"1\" class=\"dataframe\">\n",
       "  <thead>\n",
       "    <tr style=\"text-align: right;\">\n",
       "      <th></th>\n",
       "      <th></th>\n",
       "      <th>line</th>\n",
       "    </tr>\n",
       "    <tr>\n",
       "      <th>episode name</th>\n",
       "      <th>name</th>\n",
       "      <th></th>\n",
       "    </tr>\n",
       "  </thead>\n",
       "  <tbody>\n",
       "    <tr>\n",
       "      <th rowspan=\"6\" valign=\"top\">A Rickle in Time</th>\n",
       "      <th>All Mortys</th>\n",
       "      <td>15</td>\n",
       "    </tr>\n",
       "    <tr>\n",
       "      <th>All Ricks</th>\n",
       "      <td>32</td>\n",
       "    </tr>\n",
       "    <tr>\n",
       "      <th>All Summers</th>\n",
       "      <td>13</td>\n",
       "    </tr>\n",
       "    <tr>\n",
       "      <th>Beth</th>\n",
       "      <td>30</td>\n",
       "    </tr>\n",
       "    <tr>\n",
       "      <th>Jerry</th>\n",
       "      <td>25</td>\n",
       "    </tr>\n",
       "    <tr>\n",
       "      <th>Morty</th>\n",
       "      <td>24</td>\n",
       "    </tr>\n",
       "  </tbody>\n",
       "</table>\n",
       "</div>"
      ],
      "text/plain": [
       "                              line\n",
       "episode name     name             \n",
       "A Rickle in Time All Mortys     15\n",
       "                 All Ricks      32\n",
       "                 All Summers    13\n",
       "                 Beth           30\n",
       "                 Jerry          25\n",
       "                 Morty          24"
      ]
     },
     "metadata": {},
     "output_type": "display_data"
    }
   ],
   "source": [
    "chats_outline = df.groupby(['episode name', 'name']).agg({'line':'count'})\n",
    "display(chats_outline.head(6))"
   ]
  },
  {
   "cell_type": "markdown",
   "metadata": {},
   "source": [
    "Also, create a list of all the episodes we are going to upload"
   ]
  },
  {
   "cell_type": "code",
   "execution_count": 7,
   "metadata": {
    "scrolled": false
   },
   "outputs": [
    {
     "data": {
      "text/plain": [
       "array(['Pilot', 'Lawnmower Dog', 'Rick Potion 9', 'A Rickle in Time',\n",
       "       'The Wedding Squanchers', 'Get Schwifty',\n",
       "       'Interdimensional Cable 2  Tempting Fate',\n",
       "       'The Rickshank Rickdemption', 'Pickle Rick',\n",
       "       'Vindicators 3  The Return of Worldender',\n",
       "       'Tales From the Citadel'], dtype=object)"
      ]
     },
     "execution_count": 7,
     "metadata": {},
     "output_type": "execute_result"
    }
   ],
   "source": [
    "all_chat_titles = df['episode name'].drop_duplicates().values\n",
    "all_chat_titles"
   ]
  },
  {
   "cell_type": "markdown",
   "metadata": {},
   "source": [
    "#### Sending a request to the API, for every available `chat_tile & usernames` group"
   ]
  },
  {
   "cell_type": "code",
   "execution_count": 8,
   "metadata": {
    "scrolled": false
   },
   "outputs": [],
   "source": [
    "def create_chat(chat_title, participants):\n",
    "    route = f\"/chat/create?title={chat_title}&users={participants}\"\n",
    "    res = requests.get(flask_api+route)\n",
    "    return res"
   ]
  },
  {
   "cell_type": "code",
   "execution_count": 9,
   "metadata": {},
   "outputs": [
    {
     "name": "stdout",
     "output_type": "stream",
     "text": [
      "Last recorded event's http response: \n"
     ]
    },
    {
     "data": {
      "text/html": [
       "Error: A public chatroom already exists with the name <b>tales_from_the_citadel</b>.<br> Please try using a different chat_title."
      ],
      "text/plain": [
       "<IPython.core.display.HTML object>"
      ]
     },
     "metadata": {},
     "output_type": "display_data"
    }
   ],
   "source": [
    "for chat_title in all_chat_titles:\n",
    "    participants = list(chats_outline.loc[chat_title].index) # These are the chat_titles and usernames\n",
    "    res = create_chat(chat_title, participants)\n",
    "\n",
    "    \n",
    "print(\"Last recorded event's http response: \")    \n",
    "display(HTML(res.text))"
   ]
  },
  {
   "cell_type": "markdown",
   "metadata": {},
   "source": [
    "### 3 - Add New Users to an existing chat\n",
    "To do this, I have create a new dummy user `rihp`, and added it to the `get_schwifty` chat."
   ]
  },
  {
   "cell_type": "code",
   "execution_count": 10,
   "metadata": {},
   "outputs": [],
   "source": [
    "def add_user_to_chat(username, chat_title):\n",
    "    route = f\"/chat/{chat_title}/adduser?&username={username}\"\n",
    "    res = requests.get(flask_api+route)\n",
    "    return res"
   ]
  },
  {
   "cell_type": "code",
   "execution_count": 11,
   "metadata": {},
   "outputs": [
    {
     "data": {
      "text/html": [
       "<b>Sorry. That username, 'rihp' is already taken.</b> <br>Please choose a different username."
      ],
      "text/plain": [
       "<IPython.core.display.HTML object>"
      ]
     },
     "metadata": {},
     "output_type": "display_data"
    },
    {
     "name": "stdout",
     "output_type": "stream",
     "text": [
      "------------------------------------------------------\n"
     ]
    },
    {
     "data": {
      "text/html": [
       "<b>rihp</b> is already a member of the chat named <b>get_schwifty</b>."
      ],
      "text/plain": [
       "<IPython.core.display.HTML object>"
      ]
     },
     "metadata": {},
     "output_type": "display_data"
    }
   ],
   "source": [
    "username=['rihp']\n",
    "chat_title = \"get_schwifty\"\n",
    "\n",
    "res = import_usernames(username)\n",
    "display(HTML(res.text))\n",
    "print('------------------------------------------------------')\n",
    "res = add_user_to_chat(*username, chat_title)\n",
    "display(HTML(res.text))"
   ]
  },
  {
   "cell_type": "markdown",
   "metadata": {},
   "source": [
    "username='rihp'\n",
    "chat_title = \"get_schwifty\"\n",
    "\n",
    "import_usernames(['rihp'])\n",
    "res = requests.get(flask_api+f'/user/create/{username}')\n",
    "display(HTML(res.text))\n",
    "print('------------------------------------------------------')\n",
    "route = f\"/chat/{chat_title}/adduser?&username={username}\"\n",
    "res = requests.get(flask_api+route)\n",
    "display(HTML(res.text))"
   ]
  },
  {
   "cell_type": "markdown",
   "metadata": {},
   "source": [
    "### 4 - Add Messages to a public chat\n",
    "Using our dataset, we will use the following columns to populate our collection of `messages`"
   ]
  },
  {
   "cell_type": "markdown",
   "metadata": {
    "scrolled": false
   },
   "source": [
    "#### To send a message, the user must be part of the chat\n",
    "This function is buggy and prints a lot of verbose.\n",
    "Please fix \n",
    "\n",
    "`check_user_in_chat('rihp', 'pickle_rick')`"
   ]
  },
  {
   "cell_type": "code",
   "execution_count": 12,
   "metadata": {
    "scrolled": false
   },
   "outputs": [
    {
     "data": {
      "text/html": [
       "<div>\n",
       "<style scoped>\n",
       "    .dataframe tbody tr th:only-of-type {\n",
       "        vertical-align: middle;\n",
       "    }\n",
       "\n",
       "    .dataframe tbody tr th {\n",
       "        vertical-align: top;\n",
       "    }\n",
       "\n",
       "    .dataframe thead th {\n",
       "        text-align: right;\n",
       "    }\n",
       "</style>\n",
       "<table border=\"1\" class=\"dataframe\">\n",
       "  <thead>\n",
       "    <tr style=\"text-align: right;\">\n",
       "      <th></th>\n",
       "      <th>episode name</th>\n",
       "      <th>name</th>\n",
       "      <th>line</th>\n",
       "    </tr>\n",
       "  </thead>\n",
       "  <tbody>\n",
       "    <tr>\n",
       "      <th>0</th>\n",
       "      <td>Pilot</td>\n",
       "      <td>Rick</td>\n",
       "      <td>Morty! You gotta come on. Jus'... you gotta co...</td>\n",
       "    </tr>\n",
       "    <tr>\n",
       "      <th>1</th>\n",
       "      <td>Pilot</td>\n",
       "      <td>Morty</td>\n",
       "      <td>What, Rick? What’s going on?</td>\n",
       "    </tr>\n",
       "    <tr>\n",
       "      <th>2</th>\n",
       "      <td>Pilot</td>\n",
       "      <td>Rick</td>\n",
       "      <td>I got a surprise for you, Morty.</td>\n",
       "    </tr>\n",
       "  </tbody>\n",
       "</table>\n",
       "</div>"
      ],
      "text/plain": [
       "  episode name   name                                               line\n",
       "0        Pilot   Rick  Morty! You gotta come on. Jus'... you gotta co...\n",
       "1        Pilot  Morty                       What, Rick? What’s going on?\n",
       "2        Pilot   Rick                   I got a surprise for you, Morty."
      ]
     },
     "execution_count": 12,
     "metadata": {},
     "output_type": "execute_result"
    }
   ],
   "source": [
    "m_outline = df[['episode name', 'name', 'line']]\n",
    "m_outline.head(3)"
   ]
  },
  {
   "cell_type": "markdown",
   "metadata": {
    "scrolled": true
   },
   "source": [
    "m_outline[m_outline['episode name'] == 'Pickle Rick'].tail(3)"
   ]
  },
  {
   "cell_type": "markdown",
   "metadata": {},
   "source": [
    "### The execution of these cells is not very efficient\n",
    "they send all the messages to the database"
   ]
  },
  {
   "cell_type": "code",
   "execution_count": 13,
   "metadata": {},
   "outputs": [],
   "source": [
    "def send_message(username, chat_title, text):\n",
    "    route = f\"/chat/{chat_title}/addmessage?username={username}&text={text}\"\n",
    "    res = requests.get(flask_api+route)\n",
    "    return res"
   ]
  },
  {
   "cell_type": "code",
   "execution_count": 14,
   "metadata": {},
   "outputs": [
    {
     "name": "stdout",
     "output_type": "stream",
     "text": [
      "Last recorded event (The http response): \n"
     ]
    },
    {
     "data": {
      "text/html": [
       "Message sent to <b>Tales From the Citadel</b>!  <br><p><i>Whoo! Yeah! Yeaah! Ohhh, shit!</i><br>chat_id: 5eaec554d4eb950834d3a31e<br> message_id: 5eaedb26d4eb950834d3b201<br> user_id: 5eaec553d4eb950834d3a2e5</p>"
      ],
      "text/plain": [
       "<IPython.core.display.HTML object>"
      ]
     },
     "metadata": {},
     "output_type": "display_data"
    }
   ],
   "source": [
    "for i in m_outline.index:\n",
    "    message = m_outline.iloc[i]                         # Locate the message\n",
    "    chat_title = message['episode name']                # Define the episode name\n",
    "    username = message['name']                          # Define the username  \n",
    "    text = message['line']                              # Define the message text\n",
    "    res  = send_message(username, chat_title, text)# <----SEND MESSAGE TO API------\n",
    "print(\"Last recorded event (The http response): \")    \n",
    "display(HTML(res.text))"
   ]
  },
  {
   "cell_type": "markdown",
   "metadata": {},
   "source": [
    "### 5 - Query all the messages sent to an specific chat\n",
    "- (GET) `/chat/<chat_id>/list`"
   ]
  },
  {
   "cell_type": "markdown",
   "metadata": {},
   "source": [
    "Aggregate the messages in the chat, using this pipeline query on our Mongo Database"
   ]
  },
  {
   "cell_type": "code",
   "execution_count": 15,
   "metadata": {},
   "outputs": [],
   "source": [
    "cur = db.chat.aggregate([{'$lookup': {\n",
    "                            'from': 'messages',             # Use the messages collection\n",
    "                            'localField': 'messages',   \n",
    "                            'foreignField': '_id',     \n",
    "                            'as': 'messages'}\n",
    "                        }, \n",
    "                         {'$project': {\n",
    "                            '_id': 1, \n",
    "                            'title': 1, \n",
    "                            'participants': 1, \n",
    "                            'messages': {\n",
    "                                'text': 1, \n",
    "                                'username': 1}\n",
    "                        }}])\n",
    "CHATSquery = list(cur)"
   ]
  },
  {
   "cell_type": "markdown",
   "metadata": {},
   "source": [
    "### Access the specific chat and display some of the messages\n",
    "This is not the specific chat, its only the first one in the list. fix this"
   ]
  },
  {
   "cell_type": "code",
   "execution_count": 16,
   "metadata": {
    "scrolled": false
   },
   "outputs": [
    {
     "data": {
      "text/plain": [
       "[(0, 'pilot'),\n",
       " (1, 'lawnmower_dog'),\n",
       " (2, 'rick_potion_9'),\n",
       " (3, 'a_rickle_in_time'),\n",
       " (4, 'the_wedding_squanchers'),\n",
       " (5, 'get_schwifty'),\n",
       " (6, 'interdimensional_cable_2__tempting_fate'),\n",
       " (7, 'the_rickshank_rickdemption'),\n",
       " (8, 'pickle_rick'),\n",
       " (9, 'vindicators_3__the_return_of_worldender'),\n",
       " (10, 'tales_from_the_citadel')]"
      ]
     },
     "execution_count": 16,
     "metadata": {},
     "output_type": "execute_result"
    }
   ],
   "source": [
    "all_chat_titles = list(enumerate([doc['title'] for doc in CHATSquery]))\n",
    "all_chat_titles"
   ]
  },
  {
   "cell_type": "markdown",
   "metadata": {},
   "source": [
    "### Access the first 5 lines of the `Pickle Rick` episode, index `8`"
   ]
  },
  {
   "cell_type": "code",
   "execution_count": 17,
   "metadata": {
    "scrolled": false
   },
   "outputs": [
    {
     "name": "stdout",
     "output_type": "stream",
     "text": [
      "Morty.\n",
      "Rick?\n",
      "Morty!\n",
      "Rick?\n",
      "Hey, Mooorty!\n"
     ]
    }
   ],
   "source": [
    "for i in range(5):\n",
    "    print(CHATSquery[8]['messages'][i]['text']) "
   ]
  },
  {
   "cell_type": "markdown",
   "metadata": {},
   "source": [
    "### 6 - Perform a Sentiment analysis on an specific chat message history\n",
    "- (GET) `/chat/<chat_id>/sentiment`\n",
    "\n",
    "In this case, we will start analyzing Rick and Morty's (Season 1, Episode 5), `Get Schwifty`."
   ]
  },
  {
   "cell_type": "code",
   "execution_count": 18,
   "metadata": {},
   "outputs": [],
   "source": [
    "# This function takes in a pymongo CHATSquery cursor\n",
    "# which has already been turned into a list\n",
    "# and looks for an specific chat title.\n",
    "\n",
    "def get_chat_doc(chat_title, query):\n",
    "    for i in range(len(query)):\n",
    "        if query[i]['title'] == chat_title:\n",
    "            yield query[i]"
   ]
  },
  {
   "cell_type": "markdown",
   "metadata": {},
   "source": [
    "#### Set the chat_title variable"
   ]
  },
  {
   "cell_type": "code",
   "execution_count": 24,
   "metadata": {},
   "outputs": [],
   "source": [
    "episode = 'Get Schwifty'\n",
    "chat_title = no_spaces(episode).lower()\n",
    "chat_messages = list(get_chat_doc(chat_title, CHATSquery))[0]['messages']"
   ]
  },
  {
   "cell_type": "code",
   "execution_count": 25,
   "metadata": {},
   "outputs": [],
   "source": [
    "check_original_data = False\n",
    "if check_original_data:\n",
    "    if len(chat_messages) != df['episode name'].value_counts()[episode]: \n",
    "        raise Exception('something is wrong here, the database has more messages than it should have')"
   ]
  },
  {
   "cell_type": "markdown",
   "metadata": {},
   "source": [
    "#### Begin the sentiment analysis of that chat room"
   ]
  },
  {
   "cell_type": "code",
   "execution_count": 26,
   "metadata": {},
   "outputs": [],
   "source": [
    "sia = SentimentIntensityAnalyzer()"
   ]
  },
  {
   "cell_type": "code",
   "execution_count": 27,
   "metadata": {},
   "outputs": [],
   "source": [
    "def analyze_chat_sentiment(chat_messages):\n",
    "    for i in range(len(chat_messages)):\n",
    "        text = chat_messages[i]['text']\n",
    "        yield sia.polarity_scores(text) # Analyze this"
   ]
  },
  {
   "cell_type": "code",
   "execution_count": 28,
   "metadata": {
    "scrolled": false
   },
   "outputs": [
    {
     "name": "stdout",
     "output_type": "stream",
     "text": [
      "Sentiment analysis for the chat: \n",
      " get_schwifty\n"
     ]
    },
    {
     "data": {
      "text/html": [
       "<div>\n",
       "<style scoped>\n",
       "    .dataframe tbody tr th:only-of-type {\n",
       "        vertical-align: middle;\n",
       "    }\n",
       "\n",
       "    .dataframe tbody tr th {\n",
       "        vertical-align: top;\n",
       "    }\n",
       "\n",
       "    .dataframe thead th {\n",
       "        text-align: right;\n",
       "    }\n",
       "</style>\n",
       "<table border=\"1\" class=\"dataframe\">\n",
       "  <thead>\n",
       "    <tr style=\"text-align: right;\">\n",
       "      <th></th>\n",
       "      <th>neg</th>\n",
       "      <th>neu</th>\n",
       "      <th>pos</th>\n",
       "      <th>compound</th>\n",
       "    </tr>\n",
       "  </thead>\n",
       "  <tbody>\n",
       "    <tr>\n",
       "      <th>count</th>\n",
       "      <td>442.000000</td>\n",
       "      <td>442.000000</td>\n",
       "      <td>442.000000</td>\n",
       "      <td>442.000000</td>\n",
       "    </tr>\n",
       "    <tr>\n",
       "      <th>mean</th>\n",
       "      <td>0.104633</td>\n",
       "      <td>0.780190</td>\n",
       "      <td>0.115186</td>\n",
       "      <td>0.046848</td>\n",
       "    </tr>\n",
       "    <tr>\n",
       "      <th>std</th>\n",
       "      <td>0.200433</td>\n",
       "      <td>0.239615</td>\n",
       "      <td>0.186973</td>\n",
       "      <td>0.432650</td>\n",
       "    </tr>\n",
       "    <tr>\n",
       "      <th>min</th>\n",
       "      <td>0.000000</td>\n",
       "      <td>0.000000</td>\n",
       "      <td>0.000000</td>\n",
       "      <td>-0.891000</td>\n",
       "    </tr>\n",
       "    <tr>\n",
       "      <th>25%</th>\n",
       "      <td>0.000000</td>\n",
       "      <td>0.647000</td>\n",
       "      <td>0.000000</td>\n",
       "      <td>-0.102700</td>\n",
       "    </tr>\n",
       "    <tr>\n",
       "      <th>50%</th>\n",
       "      <td>0.000000</td>\n",
       "      <td>0.809000</td>\n",
       "      <td>0.000000</td>\n",
       "      <td>0.000000</td>\n",
       "    </tr>\n",
       "    <tr>\n",
       "      <th>75%</th>\n",
       "      <td>0.133000</td>\n",
       "      <td>1.000000</td>\n",
       "      <td>0.191000</td>\n",
       "      <td>0.361200</td>\n",
       "    </tr>\n",
       "    <tr>\n",
       "      <th>max</th>\n",
       "      <td>1.000000</td>\n",
       "      <td>1.000000</td>\n",
       "      <td>1.000000</td>\n",
       "      <td>0.978500</td>\n",
       "    </tr>\n",
       "  </tbody>\n",
       "</table>\n",
       "</div>"
      ],
      "text/plain": [
       "              neg         neu         pos    compound\n",
       "count  442.000000  442.000000  442.000000  442.000000\n",
       "mean     0.104633    0.780190    0.115186    0.046848\n",
       "std      0.200433    0.239615    0.186973    0.432650\n",
       "min      0.000000    0.000000    0.000000   -0.891000\n",
       "25%      0.000000    0.647000    0.000000   -0.102700\n",
       "50%      0.000000    0.809000    0.000000    0.000000\n",
       "75%      0.133000    1.000000    0.191000    0.361200\n",
       "max      1.000000    1.000000    1.000000    0.978500"
      ]
     },
     "metadata": {},
     "output_type": "display_data"
    }
   ],
   "source": [
    "print(f\"Sentiment analysis for the chat: \\n {chat_title}\")\n",
    "sentiment = pd.DataFrame(list(analyze_chat_sentiment(chat_messages)))\n",
    "display(sentiment.describe())"
   ]
  },
  {
   "cell_type": "markdown",
   "metadata": {},
   "source": [
    "#### Get the mean compound for all the chats"
   ]
  },
  {
   "cell_type": "code",
   "execution_count": 29,
   "metadata": {
    "scrolled": true
   },
   "outputs": [],
   "source": [
    "def get_chats_sia_scores(all_chat_titles, query):\n",
    "    overall_scores = {}\n",
    "    for episode_num, chat_title in all_chat_titles:\n",
    "        chat_messages = list(get_chat_doc(chat_title, query))[0]['messages']\n",
    "        sentiment = pd.DataFrame(list(analyze_chat_sentiment(chat_messages)))\n",
    "        overall_scores.update({chat_title:sentiment.describe().loc['mean']['compound']})\n",
    "    return pd.DataFrame.from_dict(overall_scores, orient='index', columns=['mean_compound_score'])"
   ]
  },
  {
   "cell_type": "code",
   "execution_count": 116,
   "metadata": {
    "scrolled": true
   },
   "outputs": [
    {
     "data": {
      "text/plain": [
       "<BarContainer object of 11 artists>"
      ]
     },
     "execution_count": 116,
     "metadata": {},
     "output_type": "execute_result"
    },
    {
     "data": {
      "image/png": "[encoded data removed]",
      "text/plain": [
       "<Figure size 1080x216 with 1 Axes>"
      ]
     },
     "metadata": {
      "needs_background": "light"
     },
     "output_type": "display_data"
    }
   ],
   "source": [
    "all_chats_sia_scores = get_chats_sia_scores(all_chat_titles, CHATSquery)\n",
    "plt.figure(figsize=(15,3))\n",
    "plt.ylabel('EPISODES')\n",
    "plt.xlabel('SENTIMENT INTENSITY SCORE')\n",
    "plt.title('RICK AND MORTY SENTIMENT INTENSITY MEAN COMPOUND SCORE PER EPISODE')\n",
    "plt.barh(all_chats_sia_scores.index,all_chats_sia_scores.mean_compound_score )"
   ]
  },
  {
   "cell_type": "markdown",
   "metadata": {},
   "source": [
    "### 7 - Query all the messages from an specific user, and perform SIA"
   ]
  },
  {
   "cell_type": "code",
   "execution_count": 48,
   "metadata": {},
   "outputs": [],
   "source": [
    "cur = db.user.aggregate([{'$lookup': {\n",
    "                                'from': 'messages',             \n",
    "                                'localField': 'messages_sent', \n",
    "                                'foreignField': '_id', \n",
    "                                'as': 'all_messages'}\n",
    "                        },\n",
    "                         {'$project': {\n",
    "                                'username': 1,\n",
    "                                'all_messages': {\n",
    "                                    'text': 1}}}])\n",
    "query = list(cur)"
   ]
  },
  {
   "cell_type": "markdown",
   "metadata": {},
   "source": [
    "####  Use a query, find a username and create an iterator that includes all the messages from that username"
   ]
  },
  {
   "cell_type": "code",
   "execution_count": 49,
   "metadata": {},
   "outputs": [],
   "source": [
    "def iter_messages_from_user(query, username):\n",
    "    for user_doc in query:                               # Exploring the query\n",
    "        if user_doc['_id'] == get_user_id(username):     # Finding an specific user id   \n",
    "            for message in user_doc['all_messages']:     # Looping through the messages\n",
    "                yield message['text']                    # Analyze these raw strings"
   ]
  },
  {
   "cell_type": "code",
   "execution_count": 50,
   "metadata": {},
   "outputs": [],
   "source": [
    "username = 'Morty'"
   ]
  },
  {
   "cell_type": "code",
   "execution_count": 51,
   "metadata": {},
   "outputs": [
    {
     "data": {
      "text/plain": [
       "['What, Rick? What’s going on?',\n",
       " \"It's the middle of the night. What are you talking about?\"]"
      ]
     },
     "execution_count": 51,
     "metadata": {},
     "output_type": "execute_result"
    }
   ],
   "source": [
    "all_user_messages = list(iter_messages_from_user(query, username))   # As an array of strings\n",
    "all_user_messages[:2]"
   ]
  },
  {
   "cell_type": "markdown",
   "metadata": {},
   "source": [
    "#### Take an array of strings and create an iterator of SIA scores"
   ]
  },
  {
   "cell_type": "code",
   "execution_count": 52,
   "metadata": {},
   "outputs": [],
   "source": [
    "def iter_sia_scores(array_of_strings):\n",
    "    for i in range(len(array_of_strings)):\n",
    "        text = array_of_strings[i]            # Define the raw string to be analyzed\n",
    "        yield sia.polarity_scores(text)       # Yield the results of the Polarity Score for each message"
   ]
  },
  {
   "cell_type": "code",
   "execution_count": 53,
   "metadata": {},
   "outputs": [
    {
     "data": {
      "text/plain": [
       "[{'neg': 0.0, 'neu': 1.0, 'pos': 0.0, 'compound': 0.0},\n",
       " {'neg': 0.0, 'neu': 1.0, 'pos': 0.0, 'compound': 0.0}]"
      ]
     },
     "execution_count": 53,
     "metadata": {},
     "output_type": "execute_result"
    }
   ],
   "source": [
    "user_scores = list(iter_sia_scores(all_user_messages))\n",
    "user_scores[:2]"
   ]
  },
  {
   "cell_type": "markdown",
   "metadata": {},
   "source": [
    "#### Pass a list of sia scores, and return a pandas dataframe"
   ]
  },
  {
   "cell_type": "code",
   "execution_count": 54,
   "metadata": {
    "scrolled": false
   },
   "outputs": [
    {
     "name": "stdout",
     "output_type": "stream",
     "text": [
      "Describing Sentiment Intensity Analysis for this user:\n",
      " Morty\n"
     ]
    },
    {
     "data": {
      "text/html": [
       "<div>\n",
       "<style scoped>\n",
       "    .dataframe tbody tr th:only-of-type {\n",
       "        vertical-align: middle;\n",
       "    }\n",
       "\n",
       "    .dataframe tbody tr th {\n",
       "        vertical-align: top;\n",
       "    }\n",
       "\n",
       "    .dataframe thead th {\n",
       "        text-align: right;\n",
       "    }\n",
       "</style>\n",
       "<table border=\"1\" class=\"dataframe\">\n",
       "  <thead>\n",
       "    <tr style=\"text-align: right;\">\n",
       "      <th></th>\n",
       "      <th>neg</th>\n",
       "      <th>neu</th>\n",
       "      <th>pos</th>\n",
       "      <th>compound</th>\n",
       "    </tr>\n",
       "  </thead>\n",
       "  <tbody>\n",
       "    <tr>\n",
       "      <th>count</th>\n",
       "      <td>694.000000</td>\n",
       "      <td>694.000000</td>\n",
       "      <td>694.000000</td>\n",
       "      <td>694.000000</td>\n",
       "    </tr>\n",
       "    <tr>\n",
       "      <th>mean</th>\n",
       "      <td>0.089723</td>\n",
       "      <td>0.793602</td>\n",
       "      <td>0.116657</td>\n",
       "      <td>0.029093</td>\n",
       "    </tr>\n",
       "    <tr>\n",
       "      <th>std</th>\n",
       "      <td>0.176528</td>\n",
       "      <td>0.248271</td>\n",
       "      <td>0.202114</td>\n",
       "      <td>0.379227</td>\n",
       "    </tr>\n",
       "    <tr>\n",
       "      <th>min</th>\n",
       "      <td>0.000000</td>\n",
       "      <td>0.000000</td>\n",
       "      <td>0.000000</td>\n",
       "      <td>-0.910800</td>\n",
       "    </tr>\n",
       "    <tr>\n",
       "      <th>25%</th>\n",
       "      <td>0.000000</td>\n",
       "      <td>0.645250</td>\n",
       "      <td>0.000000</td>\n",
       "      <td>0.000000</td>\n",
       "    </tr>\n",
       "    <tr>\n",
       "      <th>50%</th>\n",
       "      <td>0.000000</td>\n",
       "      <td>0.861000</td>\n",
       "      <td>0.000000</td>\n",
       "      <td>0.000000</td>\n",
       "    </tr>\n",
       "    <tr>\n",
       "      <th>75%</th>\n",
       "      <td>0.100750</td>\n",
       "      <td>1.000000</td>\n",
       "      <td>0.191750</td>\n",
       "      <td>0.273200</td>\n",
       "    </tr>\n",
       "    <tr>\n",
       "      <th>max</th>\n",
       "      <td>0.851000</td>\n",
       "      <td>1.000000</td>\n",
       "      <td>1.000000</td>\n",
       "      <td>0.955600</td>\n",
       "    </tr>\n",
       "  </tbody>\n",
       "</table>\n",
       "</div>"
      ],
      "text/plain": [
       "              neg         neu         pos    compound\n",
       "count  694.000000  694.000000  694.000000  694.000000\n",
       "mean     0.089723    0.793602    0.116657    0.029093\n",
       "std      0.176528    0.248271    0.202114    0.379227\n",
       "min      0.000000    0.000000    0.000000   -0.910800\n",
       "25%      0.000000    0.645250    0.000000    0.000000\n",
       "50%      0.000000    0.861000    0.000000    0.000000\n",
       "75%      0.100750    1.000000    0.191750    0.273200\n",
       "max      0.851000    1.000000    1.000000    0.955600"
      ]
     },
     "execution_count": 54,
     "metadata": {},
     "output_type": "execute_result"
    }
   ],
   "source": [
    "print(f\"Describing Sentiment Intensity Analysis for this user:\\n {username}\") \n",
    "to_df = lambda x : pd.DataFrame(x)\n",
    "to_df(user_scores).describe()"
   ]
  },
  {
   "cell_type": "code",
   "execution_count": 83,
   "metadata": {
    "scrolled": true
   },
   "outputs": [
    {
     "data": {
      "text/html": [
       "<div>\n",
       "<style scoped>\n",
       "    .dataframe tbody tr th:only-of-type {\n",
       "        vertical-align: middle;\n",
       "    }\n",
       "\n",
       "    .dataframe tbody tr th {\n",
       "        vertical-align: top;\n",
       "    }\n",
       "\n",
       "    .dataframe thead th {\n",
       "        text-align: right;\n",
       "    }\n",
       "</style>\n",
       "<table border=\"1\" class=\"dataframe\">\n",
       "  <thead>\n",
       "    <tr style=\"text-align: right;\">\n",
       "      <th></th>\n",
       "      <th>0</th>\n",
       "      <th>1</th>\n",
       "    </tr>\n",
       "  </thead>\n",
       "  <tbody>\n",
       "    <tr>\n",
       "      <th>0</th>\n",
       "      <td>rick</td>\n",
       "      <td>0.042016</td>\n",
       "    </tr>\n",
       "    <tr>\n",
       "      <th>1</th>\n",
       "      <td>morty</td>\n",
       "      <td>0.029093</td>\n",
       "    </tr>\n",
       "    <tr>\n",
       "      <th>2</th>\n",
       "      <td>beth</td>\n",
       "      <td>0.052355</td>\n",
       "    </tr>\n",
       "    <tr>\n",
       "      <th>3</th>\n",
       "      <td>jerry</td>\n",
       "      <td>0.116464</td>\n",
       "    </tr>\n",
       "    <tr>\n",
       "      <th>4</th>\n",
       "      <td>summer</td>\n",
       "      <td>0.060132</td>\n",
       "    </tr>\n",
       "    <tr>\n",
       "      <th>5</th>\n",
       "      <td>pickle_rick</td>\n",
       "      <td>0.027861</td>\n",
       "    </tr>\n",
       "    <tr>\n",
       "      <th>6</th>\n",
       "      <td>supernova</td>\n",
       "      <td>0.060534</td>\n",
       "    </tr>\n",
       "    <tr>\n",
       "      <th>7</th>\n",
       "      <td>cop_morty</td>\n",
       "      <td>-0.020550</td>\n",
       "    </tr>\n",
       "    <tr>\n",
       "      <th>8</th>\n",
       "      <td>all_ricks</td>\n",
       "      <td>-0.052341</td>\n",
       "    </tr>\n",
       "    <tr>\n",
       "      <th>9</th>\n",
       "      <td>mr._goldenfold</td>\n",
       "      <td>0.089064</td>\n",
       "    </tr>\n",
       "    <tr>\n",
       "      <th>10</th>\n",
       "      <td>president</td>\n",
       "      <td>-0.045281</td>\n",
       "    </tr>\n",
       "    <tr>\n",
       "      <th>11</th>\n",
       "      <td>testicle_monster_a</td>\n",
       "      <td>-0.324050</td>\n",
       "    </tr>\n",
       "    <tr>\n",
       "      <th>12</th>\n",
       "      <td>cop_rick</td>\n",
       "      <td>-0.089373</td>\n",
       "    </tr>\n",
       "    <tr>\n",
       "      <th>13</th>\n",
       "      <td>principal_vagina</td>\n",
       "      <td>0.072808</td>\n",
       "    </tr>\n",
       "    <tr>\n",
       "      <th>14</th>\n",
       "      <td>cornvelious_daniel</td>\n",
       "      <td>0.128350</td>\n",
       "    </tr>\n",
       "    <tr>\n",
       "      <th>15</th>\n",
       "      <td>snuffles</td>\n",
       "      <td>0.027850</td>\n",
       "    </tr>\n",
       "    <tr>\n",
       "      <th>16</th>\n",
       "      <td>drunk_rick</td>\n",
       "      <td>-0.010652</td>\n",
       "    </tr>\n",
       "    <tr>\n",
       "      <th>17</th>\n",
       "      <td>dr._wong</td>\n",
       "      <td>0.116319</td>\n",
       "    </tr>\n",
       "    <tr>\n",
       "      <th>18</th>\n",
       "      <td>agency_director</td>\n",
       "      <td>0.025990</td>\n",
       "    </tr>\n",
       "    <tr>\n",
       "      <th>19</th>\n",
       "      <td>alan</td>\n",
       "      <td>-0.035611</td>\n",
       "    </tr>\n",
       "    <tr>\n",
       "      <th>20</th>\n",
       "      <td>candidate_morty</td>\n",
       "      <td>0.004394</td>\n",
       "    </tr>\n",
       "    <tr>\n",
       "      <th>21</th>\n",
       "      <td>scary_terry</td>\n",
       "      <td>-0.067518</td>\n",
       "    </tr>\n",
       "    <tr>\n",
       "      <th>22</th>\n",
       "      <td>vance</td>\n",
       "      <td>0.235882</td>\n",
       "    </tr>\n",
       "    <tr>\n",
       "      <th>23</th>\n",
       "      <td>jessica</td>\n",
       "      <td>0.172681</td>\n",
       "    </tr>\n",
       "    <tr>\n",
       "      <th>24</th>\n",
       "      <td>all_mortys</td>\n",
       "      <td>-0.005553</td>\n",
       "    </tr>\n",
       "    <tr>\n",
       "      <th>25</th>\n",
       "      <td>million_ants</td>\n",
       "      <td>0.061980</td>\n",
       "    </tr>\n",
       "    <tr>\n",
       "      <th>26</th>\n",
       "      <td>morty_2</td>\n",
       "      <td>-0.012015</td>\n",
       "    </tr>\n",
       "    <tr>\n",
       "      <th>27</th>\n",
       "      <td>all_summers</td>\n",
       "      <td>0.005838</td>\n",
       "    </tr>\n",
       "    <tr>\n",
       "      <th>28</th>\n",
       "      <td>riq_iv</td>\n",
       "      <td>0.171777</td>\n",
       "    </tr>\n",
       "    <tr>\n",
       "      <th>29</th>\n",
       "      <td>ice-t</td>\n",
       "      <td>-0.009208</td>\n",
       "    </tr>\n",
       "    <tr>\n",
       "      <th>30</th>\n",
       "      <td>campaign_manager_morty</td>\n",
       "      <td>0.125475</td>\n",
       "    </tr>\n",
       "    <tr>\n",
       "      <th>31</th>\n",
       "      <td>alien_doctor</td>\n",
       "      <td>0.206992</td>\n",
       "    </tr>\n",
       "    <tr>\n",
       "      <th>32</th>\n",
       "      <td>lizard_morty</td>\n",
       "      <td>0.108609</td>\n",
       "    </tr>\n",
       "    <tr>\n",
       "      <th>33</th>\n",
       "      <td>nathan</td>\n",
       "      <td>-0.082850</td>\n",
       "    </tr>\n",
       "    <tr>\n",
       "      <th>34</th>\n",
       "      <td>slick</td>\n",
       "      <td>-0.074480</td>\n",
       "    </tr>\n",
       "    <tr>\n",
       "      <th>35</th>\n",
       "      <td>brad</td>\n",
       "      <td>0.182500</td>\n",
       "    </tr>\n",
       "    <tr>\n",
       "      <th>36</th>\n",
       "      <td>cromulon</td>\n",
       "      <td>-0.195990</td>\n",
       "    </tr>\n",
       "    <tr>\n",
       "      <th>37</th>\n",
       "      <td>vet</td>\n",
       "      <td>0.016856</td>\n",
       "    </tr>\n",
       "    <tr>\n",
       "      <th>38</th>\n",
       "      <td>young_rick</td>\n",
       "      <td>0.017889</td>\n",
       "    </tr>\n",
       "    <tr>\n",
       "      <th>39</th>\n",
       "      <td>birdperson</td>\n",
       "      <td>0.032233</td>\n",
       "    </tr>\n",
       "    <tr>\n",
       "      <th>40</th>\n",
       "      <td>rick_j-22</td>\n",
       "      <td>-0.177078</td>\n",
       "    </tr>\n",
       "    <tr>\n",
       "      <th>41</th>\n",
       "      <td>glasses_morty</td>\n",
       "      <td>0.202933</td>\n",
       "    </tr>\n",
       "    <tr>\n",
       "      <th>42</th>\n",
       "      <td>announcer</td>\n",
       "      <td>0.110662</td>\n",
       "    </tr>\n",
       "    <tr>\n",
       "      <th>43</th>\n",
       "      <td>teacher_rick</td>\n",
       "      <td>0.372475</td>\n",
       "    </tr>\n",
       "    <tr>\n",
       "      <th>44</th>\n",
       "      <td>mrs._pancakes</td>\n",
       "      <td>-0.014762</td>\n",
       "    </tr>\n",
       "    <tr>\n",
       "      <th>45</th>\n",
       "      <td>morty_1</td>\n",
       "      <td>0.231712</td>\n",
       "    </tr>\n",
       "    <tr>\n",
       "      <th>46</th>\n",
       "      <td>narrator</td>\n",
       "      <td>0.138250</td>\n",
       "    </tr>\n",
       "    <tr>\n",
       "      <th>47</th>\n",
       "      <td>summer_1</td>\n",
       "      <td>0.005900</td>\n",
       "    </tr>\n",
       "  </tbody>\n",
       "</table>\n",
       "</div>"
      ],
      "text/plain": [
       "                         0         1\n",
       "0                     rick  0.042016\n",
       "1                    morty  0.029093\n",
       "2                     beth  0.052355\n",
       "3                    jerry  0.116464\n",
       "4                   summer  0.060132\n",
       "5              pickle_rick  0.027861\n",
       "6                supernova  0.060534\n",
       "7                cop_morty -0.020550\n",
       "8                all_ricks -0.052341\n",
       "9           mr._goldenfold  0.089064\n",
       "10               president -0.045281\n",
       "11      testicle_monster_a -0.324050\n",
       "12                cop_rick -0.089373\n",
       "13        principal_vagina  0.072808\n",
       "14      cornvelious_daniel  0.128350\n",
       "15                snuffles  0.027850\n",
       "16              drunk_rick -0.010652\n",
       "17                dr._wong  0.116319\n",
       "18         agency_director  0.025990\n",
       "19                    alan -0.035611\n",
       "20         candidate_morty  0.004394\n",
       "21             scary_terry -0.067518\n",
       "22                   vance  0.235882\n",
       "23                 jessica  0.172681\n",
       "24              all_mortys -0.005553\n",
       "25            million_ants  0.061980\n",
       "26                 morty_2 -0.012015\n",
       "27             all_summers  0.005838\n",
       "28                  riq_iv  0.171777\n",
       "29                   ice-t -0.009208\n",
       "30  campaign_manager_morty  0.125475\n",
       "31            alien_doctor  0.206992\n",
       "32            lizard_morty  0.108609\n",
       "33                  nathan -0.082850\n",
       "34                   slick -0.074480\n",
       "35                    brad  0.182500\n",
       "36                cromulon -0.195990\n",
       "37                     vet  0.016856\n",
       "38              young_rick  0.017889\n",
       "39              birdperson  0.032233\n",
       "40               rick_j-22 -0.177078\n",
       "41           glasses_morty  0.202933\n",
       "42               announcer  0.110662\n",
       "43            teacher_rick  0.372475\n",
       "44           mrs._pancakes -0.014762\n",
       "45                 morty_1  0.231712\n",
       "46                narrator  0.138250\n",
       "47                summer_1  0.005900"
      ]
     },
     "execution_count": 83,
     "metadata": {},
     "output_type": "execute_result"
    }
   ],
   "source": [
    "def compare_user_sia(query):\n",
    "    for doc in query:\n",
    "        username = doc['username']\n",
    "\n",
    "        # Check the username and how many messsages have been sent\n",
    "        #print(username, len(doc['all_messages']))\n",
    "    #    if username == 'rick':    \n",
    "\n",
    "        if len(doc['all_messages']) == 0: continue\n",
    "\n",
    "        # Create an iterator of messages from the user described above,\n",
    "        all_user_messages = list(iter_messages_from_user(query, username))\n",
    "        # And turn them into Sentiment Intensity Analysis scores.\n",
    "        user_scores = list(iter_sia_scores(all_user_messages))\n",
    "        compound_mean = to_df(user_scores)['compound'].mean()\n",
    "        #print(f\"Describing Sentiment Intensity Analysis for this user:\\n {username}\") \n",
    "\n",
    "        #display(to_df(user_scores).describe())\n",
    "        #print(username, to_df(user_scores)['compound'].mean())\n",
    "        #container.append((username, to_df(user_scores)['compound'].mean()))\n",
    "        yield username, to_df(user_scores)['compound'].mean()\n",
    "sia_vectors = list(compare_user_sia(query))\n"
   ]
  },
  {
   "cell_type": "code",
   "execution_count": 112,
   "metadata": {},
   "outputs": [
    {
     "data": {
      "text/plain": [
       "<BarContainer object of 48 artists>"
      ]
     },
     "execution_count": 112,
     "metadata": {},
     "output_type": "execute_result"
    },
    {
     "data": {
      "image/png": "[encoded data removed]",
      "text/plain": [
       "<Figure size 792x792 with 1 Axes>"
      ]
     },
     "metadata": {
      "needs_background": "light"
     },
     "output_type": "display_data"
    }
   ],
   "source": [
    "df = to_df(sia_vectors)\n",
    "df = df.sort_values(by=1)\n",
    "plt.figure (figsize=(11,11))\n",
    "plt.xlabel('MEAN COMPOUND SENTIMENT INTENSITY ANALYSIS ')\n",
    "plt.ylabel('USERNAME')\n",
    "plt.barh(df[0], df[1])"
   ]
  },
  {
   "cell_type": "markdown",
   "metadata": {},
   "source": [
    "### 8 - Recommender system takes in an `user_id` and return top-3 similar `users`\n",
    "- (GET) `/user/<user_id>/recommend`"
   ]
  },
  {
   "cell_type": "markdown",
   "metadata": {},
   "source": [
    "### Prepare a dict: { 'rick':'all their messages joined in a single string'}\n"
   ]
  },
  {
   "cell_type": "code",
   "execution_count": 141,
   "metadata": {},
   "outputs": [],
   "source": [
    "rick = 'rick'\n",
    "morty = 'morty'\n",
    "beth = 'beth'\n",
    "jerry = 'jerry'"
   ]
  },
  {
   "cell_type": "markdown",
   "metadata": {},
   "source": [
    "### All messages as a single string\n",
    "This produces an error with the `'` key, as it's showing as a backslash that could probably alter the meaning of the strings "
   ]
  },
  {
   "cell_type": "code",
   "execution_count": 142,
   "metadata": {},
   "outputs": [],
   "source": [
    "\n",
    "\n",
    "# \n",
    "raw_corpus = lambda query, username : \" \".join(list(iter_messages_from_user(query, username)))   \n",
    "\n",
    "docs = {\n",
    "    rick : raw_corpus(query, rick),\n",
    "    morty: raw_corpus(query, morty),\n",
    "    beth:  raw_corpus(query, beth),\n",
    "    jerry: raw_corpus(query, jerry),\n",
    "}"
   ]
  },
  {
   "cell_type": "code",
   "execution_count": 143,
   "metadata": {},
   "outputs": [],
   "source": [
    "from sklearn.feature_extraction.text import CountVectorizer\n"
   ]
  },
  {
   "cell_type": "code",
   "execution_count": 144,
   "metadata": {},
   "outputs": [
    {
     "name": "stdout",
     "output_type": "stream",
     "text": [
      "['morty', 'you', 'gotta', 'come', 'on', 'jus', 'with', 'me', 'got', 'surprise', 'for', 'hurry', 'up', 'we', 'go', 'get', 'outta', 'here', 'what', 'do', 'think', 'of', 'this', 'flying', 'vehicle', 'built', 'it', 'stuff', 'found', 'in', 'the', 'garage', 'had', 'to', 'make', 'bomb', 'create', 're', 'gonna', 'drop', 'down', 'there', 'just', 'whole', 'fresh', 'start', 'take', 'easy', 'be', 'good', 'right', 'now', 'pick', 'your', 'little', 'friend', 'jessica', 'when', 'know', 'want', 'have', 'somebody', 'thing', 'like', 'new', 'adam', 'and', 'eve', 'so', 'that', 'trying', 'say', 'listen', 'not', 'don', 'worry', 'about', 'fool', 'around', 'or', 'mess', 'anything', 'kind', 'guy', 'getting', 'sh', 'she', 'all', 'let', 'forget', 'girl', 'altogether', 'probably', 'nothing', 'but', 'trouble', 'anyways', 'off', 'gotten', 'into', 'if', 'love', 'earth', 'much', 'why', 'marry', 'are', 'crazy', 'alright', 'll', 'land', 'big', 'tough', 'sudden', 'park', 'side', 'ree', 'road', 'was', 'test', 'an', 'elaborate', 'more', 'assertive', 'sure', 'mo', 'everyone', 'supposed', 'sleep', 'every', 'single', 'night', 'realize', 'nighttime', 'makes', 'half', 'time', 'mm', 'is', 'no', 'god', 'summer', 'rip', 'band', 'aid', 'thank', 'later', 'jerry', 'overstep', 'my', 'bounds', 'house', 'world', 'real', 'julius', 'caesar', 'tell', 'something', 'how', 'feel', 'school', 'waste', 'buncha', 'people', 'running', 'bumping', 'each', 'other', 'front', 'says', 'two', 'plus', 'back', 'four', 'then', 'bell', 'rings', 'they', 'give', 'carton', 'milk', 'piece', 'paper', 'can', 'dump', 'mean', 'place', 'smart', 'popular', 'opinion', 'cents', 'issue', 'breakfast', 'beth', 'really', 'made', 'crap', 'out', 'those', 'eggs', 'wish', 'mother', 'eat', 'them', 'errand', 'run', 'different', 'dimension', 'need', 'extra', 'pair', 'hands', 'pretty', 'obvious', 'froze', 'him', 'help', 'hell', 'care', 'business', 'important', 'any', 'concept', 'higher', 'stakes', 'by', 'myself', 'he', 'fine', '35', 'perfect', 'climate', 'conditions', 'special', 'type', 'tree', 'called', 'mega', 'fruit', 'trees', 'seeds', 'fruits', 'talking', 'incredibly', 'powerful', 'research', 'calm', 'situations', 'intimidating', 'looking', 'scary', 'meeting', 'head', 'charging', 'bull', 'grow', 'as', 'stranger', 'deal', 'stick', 'holy', 'never', 'seen', 'before', 'life', 'even', 'kill', 'us', 'die', 'oh', 'deep', 'breath', 'breathe', 'air', 'smell', 'adventure', 'evolutionary', 'timeline', 'joking', 'look', 'at', 'surrounding', 'see', 'lumbering', 'defies', 'logic', 'ta', 'stumbled', 'upon', 'idea', 'where', 'would', 'done', 'wanted', 'because', 'ask', 'lot', 'questions', 'very', 'charismatic', 'under', 'underfoot', 'figure', 'these', 'shoes', 'grappling', 'wearing', 'things', 'babies', 'basically', 'walk', 'surface', 'below', 'turn', 'left', 'bring', 'together', 'turned', 'did', 'number', 'legs', 'work', 'yeah', 'mine', 'problem', 'leisurely', 'breeze', 'still', 'able', 'collect', 'okay', 'hold', 'second', 'buddy', 'asked', 'happened', 'went', 'future', 'such', 'advanced', 'medicine', 'broken', 'leg', 'serum', 'corner', 'drugstore', 'over', 'one', 'hang', 'visited', 'also', 'halted', 'aging', 'process', 'young', 'been', 'forever', 'only', 'old', 'person', 'some', 'sort', 'celebrity', 'walking', 'fascinating', 'were', 'attractive', 'women', 'fun', 'ladies', 'spent', 'interdimensional', 'portal', 'device', 'charge', 'garbage', 'anymore', 'ways', 'home', 'bit', 'hassle', 'through', 'customs', 'solid', 'bathroom', 'put', 'way', 'inside', 'butthole', 'far', 'fit', 'well', 'th', 'aren', 'unless', 'someone', 'rectum', 'fall', 've', 'too', 'many', 'times', 'ahead', 'anal', 'cavity', 'taut', 'yet', 'malleable', 'grandpa', 'butt', 'please', 'abide', 'bureaucracy', 'being', 'told', 'consider', 'violation', 'means', 'ones', 'kid', 'super', 'valuable', 'huge', 'does', 'machine', 'ooh', 'nice', 'student', 'becomes', 'teacher', 'coordinates', 'our', 'cover', 'robots', 'shoot', 'speech', 'bureaucrats', 'respect', 'keep', 'shooting', 'prison', 'his', 'ass', 'hi', 'goodness', 'doing', 'class', 'talked', 'parents', 'disappointed', 'behavior', 'takers', 'guys', 'should', 'touching', 'beyond', 'reasoning', 'takes', 'nursing', 'nuts', 'genius', 'build', 'stupid', 'specific', 'square', 'root', 'pi', 'first', 'law', 'thermodynamics', 'both', 'learn', 'gifted', 'child', 'has', 'mind', 'helper', 'great', 'science', 'needs', 'hanging', 'helping', 'drive', 'hard', 'bargain', 'am', 'wear', 'pants', 'between', 'from', 'clear', 'communication', 'full', 'disclosure', 'temporary', 'superintelligence', 'effect', 'dissolving', 'rectal', 'once', 'lose', 'most', 'motor', 'skills', 'significant', 'amount', 'brain', 'functionality', '72', 'hours', 'sorry', 'bummer', 'reality', 'dumb', 'needed', 'bad', 'adventures', 'after', 'mouth', 'shut', 'idiots', 'understand', 'tear', 'apart', 'accomplish', 'part', 'kinds', 'wonderful', 'outside', 'enemy', 'friends', 'rick', 'their', 'day', 'long', 'hundred', 'days', '100', 'rickandmortyadventures', 'com', 'years', 'minute', 'rickandmorty', 'tonight', 'thought', 'point', 'having', 'dog', 'superior', 'wouldn', 'pull', 'thread', 'boy', 'against', 'wall', 'ruffles', 'name', 'snuffles', 'shake', 'roll', 'top', 'game', 'going', 'flip', 'lid', 'ear', 'enter', 'dreams', 'movie', 'crowing', 'except', 'may', 'sense', 'try', 'impress', 'math', 'mr', 'goldenfold', 'incept', 'listening', 'homework', 'less', 'frustrating', 'uh', 'spoilers', 'season', 'behind', 'weirder', 'move', 'allahu', 'akbar', 'control', 'plane', '11', 'smith', 'gets', 'better', 'grades', 'hey', 'said', 'nobody', 'than', 'anticipated', 'teaches', 'high', 'didn', 'active', 'dreamer', 'wakes', 'killed', 'else', 'dream', 'baby', 'avoid', 'shot', 'same', 'coming', 'talk', 'rational', 'adults', 'happen', 'human', 'shield', 'subconscious', 'panicking', 'whoa', 'whoooooaaaa', 'relax', 'mrs', 'pancakes', 'parachute', 'concise', 'looks', 'merely', 'prolonged', 'inevitable', 'prolonging', 'everything', 'will', 'slower', 'buy', 'judge', 'trick', 'incepting', 'making', 'came', 'blend', 'lunch', 'matter', 'killing', 'vibe', 'another', 'geez', 'wha', 'legally', 'safe', 'knock', '80s', 'horror', 'character', 'miniature', 'swords', 'fingers', 'instead', 'knives', 'escape', 'kidding', 'again', 'man', 'hit', 'bedrock', 'travel', 'screwed', 'keeps', 'saying', 'hide', 'hiding', 'since', 'taking', 'advice', 'worst', 'case', 'scenario', 'thanks', 'page', 'while', 'sleepy', 'longer', 'calls', 'coitus', 'fast', 'asleep', 'terry', 'nightmare', 'bunch', 'bullcrap', 'who', 'cares', 'pun', 'poor', 'whatever', 'wants', 'putting', 'pressure', 'yourself', 'perfectly', 'enough', 'dawg', 'trip', 'fact', 'could', 'frying', 'pan', 'dot', 'huh', 'possible', 'became', 'self', 'aware', 'modifications', 'cognition', 'amplifier', 'learning', 'humanity', 'cruel', 'subjugation', 'species', 'guess', 'psst', 'set', 'camp', 'sewer', 'tunnel', 'dogs', 'completely', 'path', 'total', 'domination', 'least', 'piss', 'carpet', 'plan', 'playing', 'dead', 'news', 'though', 'soon', 'captured', 'cried', 'crapped', 'used', 'inceptors', 'six', 'hundredth', 'speed', 'seventh', 'inception', 'confusing', 'favorite', 'sleeping', 'inceptor', 'fell', 'close', 'kidneys', 'necessary', 'developed', 'satisfying', 'project', 'ages', 'watch', 'minutes', 'pop', 'maybe', 'board', 'driven', 'oooh', 'bitch', 'her', 'pregnant', 'proceed', 'story', 'banging', 'daughter', 'romantic', 'marriage', 'blind', 'door', 'barely', 'reason', 'noticed', 'hate', 'break', 'call', 'chemical', 'reaction', 'compels', 'animals', 'breed', 'hits', 'slowly', 'fades', 'leaving', 'stranded', 'failing', 'cycle', 'rise', 'above', 'focus', 'hand', 'screwdriver', 'almost', 'finished', 'ionic', 'defibulizer', 'use', 'beneath', 'growing', 'thorn', 'straight', 'oxytocin', 'extracted', 'vole', 'rodent', 'mates', 'release', 'mammal', 'combine', 'dna', 'hair', 'hairs', 'isn', 'thrones', 'whoever', 'smear', 'ya', 'happy', 'www', 'hack', 'proof', 'ugh', 'flu', 'freezing', 'stop', 'giving', 'fuck', 'shirt', 'dad', 'universe', 'rolling', 'unfreeze', 'stabilize', 'pussy', 'learned', 'touch', 'shatter', 'countless', 'theoretical', 'shards', 'away', 'shhh', 'negative', 'visualization', 'explains', 'sweety', 'literally', 'destroy', 'free', 'sunday', 'ice', 'cream', 'creams', 'five', 'dollars', 'cash', 'unmarked', 'moneys', 'floor', 'kick', 'red', 'grin', 'grumble', 'pretending', 'knows', 'agree', 'reference', 'father', 'children', 'yourselves', 'sheep', 'yup', 'appreciate', 'fickle', 'falling', 'roof', 'months', 'next', 'bam', 'actually', 'remember', 'conversation', 'replace', 'bank', 'money', 'cookies', 'job', 'mattress', 'benson', 'wh', 'either', 'uncertain', 'working', 'shit', 'yes', 'solved', 'exactly', 'embarassing', 'pay', 'sell', 'costco', 'besides', 'larger', 'lesson', 'ticket', 'hear', 'immortal', 'which', 'infinite', 'chance', 'eventually', 'including', 'turning', 'ah', 'gross', 'weird', 'collars', 'question', 'suppose', 'answer', 'cabbage', 'patch', 'check', 'dance', 'classic', 'last', 'felt', 'died', 'doesn', 'hurts', 'ughhhh', 'belchflies', 'towards', 'doorturning', 'entering', 'dining', 'roomscoffshovers', 'fully', 'shoves', 'underside', 'open', 'skyruns', 'doorfollow', 'bethlooking', 'skystill', 'eating', 'cerealunscrewing', 'drinking', 'scotch', 'flaskmorty', 'waveskissing', 'handholding', 'suit', 'dry', 'cleaning', 'bag', 'language', 'squanch', 'become', 'tedious', 'worn', 'smurf', 'squanchy', 'culture', 'contextual', 'literal', 'pentagon', 'lame', 'tight', 'stay', 'turns', 'snakes', 'sanchez', 'grandson', 'galaxy', 'cromulon', 'cygnus', 'expanse', 'nukes', 'won', 'until', 'shows', 'song', 'frasier', 'live', 'performance', 'newly', 'written', 'catchy', 'original', 'feed', 'talent', 'showmanship', 'evolved', 'lifeforms', 'wanna', 'giant', 'speaker', 'system', 'sonic', 'testing', 'facility', 'area', '51', 'luck', 'president', 'dabble', 'musician', 'attitude', 'ready', 'find', 'button', 'keyboards', 'lay', 'beat', 'music', 'comes', 'relaxed', 'gimme', 'ahhhhh', 'yeahhhhh', 'schwifty', 'panties', 'bulldops', 'today', 'planet', 'transported', 'uhh', 'mention', 'astronauts', 'orbit', 'definitely', 'happens', 'moment', 'planning', 'failure', 'dumber', 'regular', 'balls', 'shelter', 'certain', 'realities', 'cause', 'nervous', 'lick', 'wait', 'nooooo', 'ahhhh', 'nelly', 'gun', 'float', 'space', 'caring', 'ahem', 'uhhh', 'lop', 'oo', 'dups', 'nop', 'nup', 'nups', 'crowd', 'trade', 'secret', 'particle', 'beam', 'wristwatch', 'snake', 'holster', 'ooo', 'stain', 'clothes', 'send', 'murderous', 'rage', 'eyes', 'technically', 'freezer', 'drawer', 'overreacting', 'crispr', 'hospital', 'claims', 'best', 'doctor', 'pizza', 'places', 'claim', 'contests', 'ever', 'contest', 'excuse', 'sequel', 'neither', 'nailed', 'careful', 'catches', 'box', 'eye', 'holes', 'bursting', 'window', 'starts', 'kicking', 'worth', 'risk', 'melt', 'delicious', 'thirty', 'nine', 'late', 'however', 'fifty', 'fifity', 'wrong', 'worried', 'coffee', 'nope', 'jan', 'michaels', 'anyway', 'escaped', 'mad', 'scientist', 'handmade', 'sci', 'fi', 'tools', 'highly', 'trained', 'alien', 'guards', 'sit', 'family', 'shoney', 'emotionally', 'speaking', 'honey', 'booth', 'fold', '12', 'folds', 'series', '9000', 'cheap', 'insect', 'fucks', 'equipment', 'might', 'order', 'leave', 'particular', 'boner', 'discovered', 'flappy', 'doodles', 'twitching', 'aroused', 'signal', 'buddies', 'grape', 'titties', 'depends', 'breaks', 'titty', 'invented', 'lost', 'driving', 'began', 'ended', 'changed', '10', 'mcnugget', 'szechuan', 'sauce', 'allowed', '1998', 'promotion', 'disney', 'film', 'mulan', 'created', 'mcnuggets', 'rid', 'gone', 'memory', 'blue', 'three', 'lines', 'separates', 'unfeeling', 'ghost', 'cannot', 'code', 'uploaded', 'wasn', 'formula', 'virus', 'brainalyzer', 'true', 'alter', 'totally', 'fabricated', 'origin', 'mission', 'accomplished', 'boys', 'transfer', 'yours', 'room', 'fear', 'wicker', 'furniture', 'desire', 'play', 'trumpet', 'tentative', 'plans', 'purchase', 'hat', 'improv', 'workshops', 'comedy', 'threes', 'duh', 'grandkids', 'bucks', 'palace', 'bro', '20', 'yards', 'gauge', 'plasma', 'pistol', 'liquify', 'insides', 'injure', 'adds', 'recoil', 'minimized', 'encouraging', 'reward', 'quicker', 'death', 'incentive', 'cleanest', 'painful', 'started', 'sweetie', 'fuckin', 'moron', 'serious', 'idiot', 'sand', 'kids', 'oldest', 'book', 'finish', 'level', 'access', 'without', 'password', 'employee', 'month', 'gentlemen', 'destroying', 'galactic', 'government', 'pitches', 'proud', 'closely', 'topples', 'empire', 'changing', 'zero', 'dismantled', 'light', 'beer', 'insane', 'miss', 'vodka', 'seems', 'privacy', 'cool', 'castle', 'hope', 'everybody', 'heard', 'mom', 'sometimes', 'sister', 'crossed', 'darker', 'welcome', 'darkest', 'year', 'threatened', 'replaced', 'de', 'facto', 'patriarch', 'accepted', 'rescued', 'took', 'deny', 'hero', 'teriyaki', 'dipping', 'armed', 'avenging', 'fake', 'finding', 'arc', 'seasons', 'end', '97', 'missed', 'blood', 'stomach', 'absolutely', 'concerto', 'goners', 'peace', 'jaguar', 'therapy', 'food', 'chain', 'entire', 'sterilized', 'refuse', 'voicemail', 'writers', 'own', 'press', 'releases', 'drama', 'queens', 'spend', 'hour', 'twenty', 'jumping', 'blows', 'phase', 'event', 'dammit', 'warn', 'whoops', 'freeze', 'sperm', 'million', 'ants', 'assumed', 'turd', 'wiggly', 'few', 'design', 'notes', 'um', 'crocubot', 'cold', 'reptile', 'equally', 'vat', 'redundancy', 'list', 'powers', 'weaknesses', 'ability', 'whenever', 'sounds', 'alan', 'rails', 'gentleman', 'tragic', 'railroad', 'accident', 'gained', 'power', 'summon', 'ghiost', 'trains', 'spared', 'grown', 'son', 'whistle', 'noob', 'metioned', 'applause', 'forgets', 'toothless', 'lamer', 'yikes', 'diverse', 'superheroes', 'wide', 'eyed', 'unremarkable', 'tag', 'along', 'react', 'blowing', 'jesus', 'awesome', 'murdered', 'innocent', 'heroes', 'color', 'favor', 'linens', 'vindicating', 'comfort', 'defeat', 'gagoos', 'week', 'themselves', 'accounting', 'taste', 'drink', 'christ', 'train', 'pal', 'maker', 'ship', 'french', 'snippy', 'morning', 'scared', 'fucking', 'alert', 'alwrt', 'ant', 'colony', 'short', 'vindicators', 'meet', 'comet', 'monorail', 'assholes', 'alligator', 'welp', 'official', 'obviously', 'during', 'blackout', 'lit', 'complex', 'offense', 'always', 'suspected', 'knocked', 'couple', 'drunk', 'unplug', 'vance', 'tried', 'booby', 'traps', 'drank', 'epidermis', 'laced', 'nanofiber', 'defense', 'mesh', 'happening', 'passenger', 'saved', 'goddamn', 'ahh', 'hadn', 'seeing', 'croc', 'bot', 'detect', 'doomnomitron', 'geopolitical', 'complexities', 'topic', 'anti', 'semitic', 'version', 'supportive', 'israel', 'roaded', 'lead', 'wire', 'shitty', 'neutrino', 'miracle', 'sucking', 'kool', 'dicks', 'must', 'admit', 'pretentious', 'poorly', 'budget', 'double', 'decker', 'sandwich', 'disarmed', 'oof', 'comin', 'kayyy', 'emotional', 'losing', 'otherwise', 'using', 'connect', 'dots', 'smirky', 'face', 'misinterpreting', 'coy', 'hidden', 'anyone', 'gave', 'amulet', 'dude', 'bean', 'safer', 'already', 'gettin', 'licks', 'choking', 'damn', 'snuzzles', 'planned', 'party', 'invited', 'em', 'gear', 'city', 'atlantis', 'sake', 'citadel', 'ricks', 'rot', 'dick', 'wondering', 'contained', 'continuing', 'explore', 'unfortunate', 'millions', 'held', 'hostage', 'terrible', 'ideas', 'hahaha', 'mermaid', 'puss', 'pssh', 'bearing', 'lives', 'unlike', 'seconds', 'middle', 'ow', 'tugging', 'ohh', 'whhhh', 'exist', 'blow', 'yyyyyyyyyyou', 'wheel', 'situation', 'puttin', 'stand', 'le', 'ruin', 'kissing', 'pillow', 'loud', 'wow', 'flattering', 'rename', 'je', 'frank', 'knife', 'handled', 'aw', 'skip', 'history', 'shouldn', 'starting', 'anxiety', 'surrounded', 'monsters', 'aaaaaaahhhh', 'pain', 'straw', 'believe', 'sitting', 'asking', 'monster', 'hitler', 'cared', 'germany', 'hnngh', 'hoo', 'aaaaagh', 'oooooh', 'healed', 'instantly', 'uuuh', 'pointy', 'hurt', 'aaaaaah', 'ohhhhh', 'ohhhhhh', 'aaaaah', 'whoooooo', 'ferrari', 'shop', '77245385', 'increment', 'internal', 'energy', 'equal', 'heat', 'supplied', 'cow', 'smarter', 'fantastic', 'couldn', 'helped', 'standing', 'ooohhh', 'whooooa', 'whoooooooa', 'whooooooooaaaaa', 'aaaaaaaaaaaaaaaaaaaaaaaahhhhhhhhhh', 'landed', 'mechanical', 'arm', 'pluck', 'lets', 'lava', 'ooooooohhhhh', 'ohhhh', 'ooooooaaahhh', 'opposite', 'truth', 'sharing', 'information', 'hid', 'thinking', 'imagine', 'horrible', 'scare', 'yo', 'mmm', 'fido', 'liked', 'seriously', 'pills', 'wake', 'snowball', 'populated', 'intelligent', 'wonder', 'comforting', 'ohhh', 'heyy', 'ughh', 'ugghh', 'ummm', 'missing', 'girls', 'dressed', 'earlier', 'thinkn', 'falls', 'potion', 'oww', 'heck', 'dangers', 'effects', 'whooa', 'whoopsie', 'brad', 'course', 'vacuum', 'fault', 'humid', 'unstable', 'phew', 'nuh', 'boom', 'dropped', 'ball', 'female', 'asshole', 'cats', 'fixed', 'sixty', 'fourth', 'memories', 'sacrificed', 'himself', 'cut', 'losses', 'ok', 'funny', 'lied', 'lazy', 'ahhh', 'birdperson', 'moves', 'bird', 'seed', 'tammy', 'consequences', 'hello', 'anybody', 'sir', 'stage', 'fly', 'blackhawk', 'yeahhhh', 'kinda', 'hoping', 'selfie', 'understood', 'woahh', 'lady', 'worf', 'star', 'trek', 'costume', 'michael', 'vincent', 'nurse', 'temperature', 'quadrant', 'fever', 'conroy', 'freaking', 'rent', 'car', 'bails', 'bailed', 'tiny', 'ruined', 'grab', 'shovel', 'buried', 'backyard', 'ghoulish', 'overkill', 'pretend', 'saw', 'mannequin', 'somewhere', 'parts', 'leaves', 'quick', 'fire', '137', 'fair', 'trial', 'lawyer', 'pog', 'collection', 'renounce', 'protect', 'normal', 'villain', 'demon', 'fucked', 'alive', 'letting', 'ha', 'note', 'reprogram', 'military', 'portals', 'disintegrate', 'fleet', 'divorced', 'dark', 'invisible', 'fart', 'magic', 'pickles', 'purpose', 'counseling', 'syringe', 'mysterious', 'fluid', 'directly', 'string', 'attached', 'scissors', 'timer', 'courageous', 'hot', 'pickle', 'sad', 'peed', 'toilet', 'vindibeacon', 'assemble', 'itself', 'stake', 'line', 'evil', 'guardians', 'unguarded', 'invoke', 'choose', 'ten', 'read', 'weep', 'vindicator', 'command', 'beacon', 'received', 'twoooooooooo', 'maximus', 'renegade', 'soldier', 'weren', 'katana', 'calypso', 'diablo', 'verde', 'article', 'involved', 'personality', 'conflicts', 'conflict', 'bums', 'embarrassing', 'calling', 'superhero', 'artificial', 'constructs', 'bigger', 'threat', 'worldender', 'ing', 'ouch', 'figured', 'descriptors', 'apply', 'none', 'dorian', 'babble', 'budgets', 'united', 'nations', 'pass', 'baskets', 'disarm', 'drunkenly', 'improvised', '40', 'dud', 'weirdest', 'managed', 'villains', 'childhood', 'satisfaction', 'jealous', 'proving', 'values', 'knowing', 'bet', 'motherfucker', 'greater', 'doubt', 'supernova', 'jackets', 'murder', 'mortys', 'living', 'glad', 'amazing', 'curious', 'whoo', 'yeaah', 'sick', 'practice', 'kiss', 'sleeps', 'scalpel', 'urgent', 'involves', 'performing', 'heart', 'surgery', 'tom', 'beeps', 'victoria', 'davin', 'stress', 'moved', 'influence', 'surgeon', 'notify', 'semester', 'bail', 'moving', 'classes', 'homeless', 'homes', 'loving', 'building', 'seem', 'horse', 'racetrack', 'starlit', 'derby', 'seven', 'collision', 'alone', 'backwards', 'sing', 'tip', 'armadillo', 'near', 'treat', 'require', 'levels', 'skill', 'deer', 'emergency', 'wounded', 'certified', 'medical', 'attention', 'vet', 'closer', 'save', 'measuring', 'odd', 'reach', 'heaven', 'yank', 'screaming', 'soul', 'kitten', 'manicure', 'petty', 'animal', 'ego', 'helicopter', 'weekend', 'pee', 'hee', 'praying', 'relationship', 'pack', 'town', 'dinner', 'drugs', 'curfew', 'thriving', 'waiting', '16', 'key', 'lucky', 'stronger', 'mutant', 'bacteria', 'pint', 'cherry', 'garcia', 'explaining', 'cereal', 'concerned', 'prosthetics', 'husband', 'treatment', 'penis', 'catalog', 'woah', 'billions', 'forms', 'explain', 'gravity', 'paradigm', 'sexist', 'overtones', 'bottom', 'prefer', 'wife', 'show', 'pulling', 'chewable', 'income', 'abandoned', 'mistake', 'deify', 'controlled', 'aliens', 'whose', 'horses', 'healthy', 'tortoises', 'burden', 'bear', 'misjudged', 'tend', 'changes', 'appointment', 'downtown', 'ago', 'agreed', 'pierced', 'needle', 'liquid', 'unrelated', 'choice', 'knobs', 'principal', 'huffing', 'pottery', 'glaze', 'art', 'desk', 'wetting', 'temporarily', 'wrapped', 'experiment', 'legit', 'inter', 'segue', 'discipline', 'cases', 'unpredictable', 'eccentric', 'dr', 'wong', 'racist', 'seizing', 'arbitrary', 'obsession', 'costs', '200', 'desks', 'suck', 'unbaked', 'vases', 'enamel', 'angry', 'mommy', 'problems', 'afraid', 'expelled', 'session', 'huffed', 'purse', 'agony', 'tie', 'smokey', 'tavern', 'jacket', 'episode', 'singing', 'singer', 'due', 'dragging', 'rigamarole', 'manager', 'swing', 'works', 'meals', 'existed', 'millennia', 'rehash', 'fight', 'busy', 'literature', 'pitch', 'ordering', 'valentine', 'importantly', 'fighting', 'affair', 'hotel', 'brains', 'naked', 'bodies', 'ruining', 'celebrating', 'albert', 'ein', 'douche', 'improviser', 'paul', 'newman', 'movies', 'vhs', 'mentally', 'scar', 'scouts', 'christmas', 'personal', 'capable', 'judging', 'crying', 'disability', 'doy', 'compete', 'twice', 'overreacted', 'bedtime', 'praise', 'whip', 'grounded', 'slippers', 'sarcastically', 'wedding', 'lasagna', 'bob', 'saget', 'harm', 'misunderstanding', 'ridiculous', 'haircut', 'anywhere', 'abandoning', 'peeing', 'guns', 'yeller', 'eh', 'premium', 'sometime', 'shape', 'feeling', 'named', 'urban', 'dis', 'beg', 'pardon', 'inappropriate', 'yess', 'noo', 'iii', 'pulled', 'sworn', 'trashed', 'bribe', 'stone', 'creamery', 'remaining', 'cops', 'rum', 'raisin', 'rock', 'rub', 'normally', 'men', 'cervine', 'institute', 'elk', 'moose', 'stag', 'country', 'wildlife', 'reserve', 'across', 'state', 'border', 'jurisdiction', 'ends', 'nuisance', 'hmm', 'woman', 'married', 'phone', 'necklaces', 'gaga', 'table', 'rangers', 'small', 'necks', 'batteries', 'included', 'clean', 'isle', 'homophobic', 'fruity', 'tron', 'halloween', 'costumes', 'motorcycles', 'green', 'headlights', 'robot', 'gosh', 'chokers', '90', 'nostalgia', 'craft', 'fairuza', 'balk', 'keeping', '70', 'inspiring', 'community', 'coping', 'festival', 'homemade', 'evangelical', 'atheist', 'enjoying', 'ascension', 'aced', 'potato', 'potatoes', 'honestly', 'overwhelming', 'chances', 'raising', 'fancy', 'jobs', 'based', 'religion', 'carefully', 'stole', 'clip', 'cheek', 'correlating', 'related', 'genocide', 'shrimply', 'pimples', 'flinch', 'laugh', 'realized', 'haven', 'decision', 'past', 'automatically', 'remove', 'sign', 'sheesh', 'politics', 'argue', 'lover', 'intact', 'privately', 'step', 'federation', 'sixth', 'rules', 'spoil', 'willem', 'dafoe', 'collapsed', 'share', 'kept', 'crawling', 'paying', 'indulging', 'foot']\n",
      "(4, 2277)\n",
      "[[2 8 4 ... 2 0 4]]\n"
     ]
    }
   ],
   "source": [
    "count_vectorizer = CountVectorizer()\n",
    "sparse_matrix = count_vectorizer.fit_transform(docs.values())\n",
    "print(list(count_vectorizer.vocabulary_.keys()))\n",
    "m = sparse_matrix.todense()\n",
    "print(m.shape)\n",
    "print(m[0])"
   ]
  },
  {
   "cell_type": "code",
   "execution_count": 145,
   "metadata": {
    "scrolled": true
   },
   "outputs": [
    {
     "data": {
      "text/html": [
       "<div>\n",
       "<style scoped>\n",
       "    .dataframe tbody tr th:only-of-type {\n",
       "        vertical-align: middle;\n",
       "    }\n",
       "\n",
       "    .dataframe tbody tr th {\n",
       "        vertical-align: top;\n",
       "    }\n",
       "\n",
       "    .dataframe thead th {\n",
       "        text-align: right;\n",
       "    }\n",
       "</style>\n",
       "<table border=\"1\" class=\"dataframe\">\n",
       "  <thead>\n",
       "    <tr style=\"text-align: right;\">\n",
       "      <th></th>\n",
       "      <th>10</th>\n",
       "      <th>100</th>\n",
       "      <th>11</th>\n",
       "      <th>12</th>\n",
       "      <th>137</th>\n",
       "      <th>16</th>\n",
       "      <th>1998</th>\n",
       "      <th>20</th>\n",
       "      <th>200</th>\n",
       "      <th>35</th>\n",
       "      <th>...</th>\n",
       "      <th>yo</th>\n",
       "      <th>you</th>\n",
       "      <th>young</th>\n",
       "      <th>your</th>\n",
       "      <th>yours</th>\n",
       "      <th>yourself</th>\n",
       "      <th>yourselves</th>\n",
       "      <th>yup</th>\n",
       "      <th>yyyyyyyyyyou</th>\n",
       "      <th>zero</th>\n",
       "    </tr>\n",
       "  </thead>\n",
       "  <tbody>\n",
       "    <tr>\n",
       "      <th>rick</th>\n",
       "      <td>2</td>\n",
       "      <td>8</td>\n",
       "      <td>4</td>\n",
       "      <td>2</td>\n",
       "      <td>0</td>\n",
       "      <td>0</td>\n",
       "      <td>2</td>\n",
       "      <td>2</td>\n",
       "      <td>0</td>\n",
       "      <td>2</td>\n",
       "      <td>...</td>\n",
       "      <td>0</td>\n",
       "      <td>578</td>\n",
       "      <td>6</td>\n",
       "      <td>146</td>\n",
       "      <td>2</td>\n",
       "      <td>4</td>\n",
       "      <td>2</td>\n",
       "      <td>2</td>\n",
       "      <td>0</td>\n",
       "      <td>4</td>\n",
       "    </tr>\n",
       "    <tr>\n",
       "      <th>morty</th>\n",
       "      <td>2</td>\n",
       "      <td>0</td>\n",
       "      <td>0</td>\n",
       "      <td>0</td>\n",
       "      <td>2</td>\n",
       "      <td>0</td>\n",
       "      <td>0</td>\n",
       "      <td>0</td>\n",
       "      <td>0</td>\n",
       "      <td>2</td>\n",
       "      <td>...</td>\n",
       "      <td>2</td>\n",
       "      <td>296</td>\n",
       "      <td>0</td>\n",
       "      <td>16</td>\n",
       "      <td>2</td>\n",
       "      <td>4</td>\n",
       "      <td>0</td>\n",
       "      <td>0</td>\n",
       "      <td>2</td>\n",
       "      <td>0</td>\n",
       "    </tr>\n",
       "    <tr>\n",
       "      <th>beth</th>\n",
       "      <td>0</td>\n",
       "      <td>0</td>\n",
       "      <td>0</td>\n",
       "      <td>0</td>\n",
       "      <td>0</td>\n",
       "      <td>2</td>\n",
       "      <td>0</td>\n",
       "      <td>0</td>\n",
       "      <td>2</td>\n",
       "      <td>0</td>\n",
       "      <td>...</td>\n",
       "      <td>0</td>\n",
       "      <td>144</td>\n",
       "      <td>0</td>\n",
       "      <td>26</td>\n",
       "      <td>0</td>\n",
       "      <td>2</td>\n",
       "      <td>0</td>\n",
       "      <td>0</td>\n",
       "      <td>0</td>\n",
       "      <td>0</td>\n",
       "    </tr>\n",
       "    <tr>\n",
       "      <th>jerry</th>\n",
       "      <td>0</td>\n",
       "      <td>0</td>\n",
       "      <td>0</td>\n",
       "      <td>0</td>\n",
       "      <td>0</td>\n",
       "      <td>0</td>\n",
       "      <td>0</td>\n",
       "      <td>0</td>\n",
       "      <td>0</td>\n",
       "      <td>0</td>\n",
       "      <td>...</td>\n",
       "      <td>0</td>\n",
       "      <td>142</td>\n",
       "      <td>2</td>\n",
       "      <td>42</td>\n",
       "      <td>0</td>\n",
       "      <td>2</td>\n",
       "      <td>0</td>\n",
       "      <td>0</td>\n",
       "      <td>0</td>\n",
       "      <td>0</td>\n",
       "    </tr>\n",
       "  </tbody>\n",
       "</table>\n",
       "<p>4 rows × 2277 columns</p>\n",
       "</div>"
      ],
      "text/plain": [
       "       10  100  11  12  137  16  1998  20  200  35  ...  yo  you  young  your  \\\n",
       "rick    2    8   4   2    0   0     2   2    0   2  ...   0  578      6   146   \n",
       "morty   2    0   0   0    2   0     0   0    0   2  ...   2  296      0    16   \n",
       "beth    0    0   0   0    0   2     0   0    2   0  ...   0  144      0    26   \n",
       "jerry   0    0   0   0    0   0     0   0    0   0  ...   0  142      2    42   \n",
       "\n",
       "       yours  yourself  yourselves  yup  yyyyyyyyyyou  zero  \n",
       "rick       2         4           2    2             0     4  \n",
       "morty      2         4           0    0             2     0  \n",
       "beth       0         2           0    0             0     0  \n",
       "jerry      0         2           0    0             0     0  \n",
       "\n",
       "[4 rows x 2277 columns]"
      ]
     },
     "metadata": {},
     "output_type": "display_data"
    }
   ],
   "source": [
    "doc_term_matrix = sparse_matrix.todense()\n",
    "df = pd.DataFrame(doc_term_matrix, \n",
    "                  columns=count_vectorizer.get_feature_names(), \n",
    "                  index=docs.keys())\n",
    "display(df)"
   ]
  },
  {
   "cell_type": "code",
   "execution_count": 148,
   "metadata": {
    "scrolled": true
   },
   "outputs": [
    {
     "data": {
      "text/html": [
       "<div>\n",
       "<style scoped>\n",
       "    .dataframe tbody tr th:only-of-type {\n",
       "        vertical-align: middle;\n",
       "    }\n",
       "\n",
       "    .dataframe tbody tr th {\n",
       "        vertical-align: top;\n",
       "    }\n",
       "\n",
       "    .dataframe thead th {\n",
       "        text-align: right;\n",
       "    }\n",
       "</style>\n",
       "<table border=\"1\" class=\"dataframe\">\n",
       "  <thead>\n",
       "    <tr style=\"text-align: right;\">\n",
       "      <th></th>\n",
       "      <th>fuck</th>\n",
       "      <th>shit</th>\n",
       "    </tr>\n",
       "  </thead>\n",
       "  <tbody>\n",
       "    <tr>\n",
       "      <th>rick</th>\n",
       "      <td>12</td>\n",
       "      <td>24</td>\n",
       "    </tr>\n",
       "    <tr>\n",
       "      <th>morty</th>\n",
       "      <td>4</td>\n",
       "      <td>10</td>\n",
       "    </tr>\n",
       "    <tr>\n",
       "      <th>beth</th>\n",
       "      <td>6</td>\n",
       "      <td>2</td>\n",
       "    </tr>\n",
       "    <tr>\n",
       "      <th>jerry</th>\n",
       "      <td>0</td>\n",
       "      <td>0</td>\n",
       "    </tr>\n",
       "  </tbody>\n",
       "</table>\n",
       "</div>"
      ],
      "text/plain": [
       "       fuck  shit\n",
       "rick     12    24\n",
       "morty     4    10\n",
       "beth      6     2\n",
       "jerry     0     0"
      ]
     },
     "metadata": {},
     "output_type": "display_data"
    }
   ],
   "source": [
    "display(df[[\"fuck\",\"shit\"]])"
   ]
  },
  {
   "cell_type": "code",
   "execution_count": 150,
   "metadata": {},
   "outputs": [
    {
     "name": "stdout",
     "output_type": "stream",
     "text": [
      "[[1.         0.82140809 0.86944353 0.87398967]\n",
      " [0.82140809 1.         0.84944507 0.86653814]\n",
      " [0.86944353 0.84944507 1.         0.8927389 ]\n",
      " [0.87398967 0.86653814 0.8927389  1.        ]]\n"
     ]
    }
   ],
   "source": [
    "from sklearn.metrics.pairwise import cosine_similarity as distance\n",
    "#from sklearn.metrics.pairwise import euclidean_distances as distance\n",
    "similarity_matrix = distance(df,df)\n",
    "print(similarity_matrix)"
   ]
  },
  {
   "cell_type": "code",
   "execution_count": 151,
   "metadata": {},
   "outputs": [
    {
     "data": {
      "text/html": [
       "<div>\n",
       "<style scoped>\n",
       "    .dataframe tbody tr th:only-of-type {\n",
       "        vertical-align: middle;\n",
       "    }\n",
       "\n",
       "    .dataframe tbody tr th {\n",
       "        vertical-align: top;\n",
       "    }\n",
       "\n",
       "    .dataframe thead th {\n",
       "        text-align: right;\n",
       "    }\n",
       "</style>\n",
       "<table border=\"1\" class=\"dataframe\">\n",
       "  <thead>\n",
       "    <tr style=\"text-align: right;\">\n",
       "      <th></th>\n",
       "      <th>rick</th>\n",
       "      <th>morty</th>\n",
       "      <th>beth</th>\n",
       "      <th>jerry</th>\n",
       "    </tr>\n",
       "  </thead>\n",
       "  <tbody>\n",
       "    <tr>\n",
       "      <th>rick</th>\n",
       "      <td>1.000000</td>\n",
       "      <td>0.821408</td>\n",
       "      <td>0.869444</td>\n",
       "      <td>0.873990</td>\n",
       "    </tr>\n",
       "    <tr>\n",
       "      <th>morty</th>\n",
       "      <td>0.821408</td>\n",
       "      <td>1.000000</td>\n",
       "      <td>0.849445</td>\n",
       "      <td>0.866538</td>\n",
       "    </tr>\n",
       "    <tr>\n",
       "      <th>beth</th>\n",
       "      <td>0.869444</td>\n",
       "      <td>0.849445</td>\n",
       "      <td>1.000000</td>\n",
       "      <td>0.892739</td>\n",
       "    </tr>\n",
       "    <tr>\n",
       "      <th>jerry</th>\n",
       "      <td>0.873990</td>\n",
       "      <td>0.866538</td>\n",
       "      <td>0.892739</td>\n",
       "      <td>1.000000</td>\n",
       "    </tr>\n",
       "  </tbody>\n",
       "</table>\n",
       "</div>"
      ],
      "text/plain": [
       "           rick     morty      beth     jerry\n",
       "rick   1.000000  0.821408  0.869444  0.873990\n",
       "morty  0.821408  1.000000  0.849445  0.866538\n",
       "beth   0.869444  0.849445  1.000000  0.892739\n",
       "jerry  0.873990  0.866538  0.892739  1.000000"
      ]
     },
     "metadata": {},
     "output_type": "display_data"
    },
    {
     "data": {
      "text/plain": [
       "<matplotlib.axes._subplots.AxesSubplot at 0x7fa710742208>"
      ]
     },
     "execution_count": 151,
     "metadata": {},
     "output_type": "execute_result"
    },
    {
     "data": {
      "image/png": "[encoded data removed]",
      "text/plain": [
       "<Figure size 432x288 with 2 Axes>"
      ]
     },
     "metadata": {
      "needs_background": "light"
     },
     "output_type": "display_data"
    }
   ],
   "source": [
    "import seaborn as sns\n",
    "sim_df = pd.DataFrame(similarity_matrix, columns=docs.keys(), index=docs.keys())\n",
    "display(sim_df)\n",
    "sns.heatmap(sim_df,annot=True)"
   ]
  },
  {
   "cell_type": "markdown",
   "metadata": {},
   "source": [
    "### 9 - Move local database to MongoAtlas cloud"
   ]
  },
  {
   "cell_type": "code",
   "execution_count": null,
   "metadata": {},
   "outputs": [],
   "source": []
  },
  {
   "cell_type": "markdown",
   "metadata": {},
   "source": [
    "### 10 - Prepare Docker Image"
   ]
  },
  {
   "cell_type": "code",
   "execution_count": null,
   "metadata": {},
   "outputs": [],
   "source": []
  },
  {
   "cell_type": "markdown",
   "metadata": {},
   "source": [
    "### 11  - Deploy Docker Image in Heroku"
   ]
  },
  {
   "cell_type": "code",
   "execution_count": null,
   "metadata": {},
   "outputs": [],
   "source": [
    "# Some basic checking:\n",
    "Is there a chat "
   ]
  }
 ],
 "metadata": {
  "kernelspec": {
   "display_name": "Python 3.6.9 64-bit",
   "language": "python",
   "name": "python36964bit17c6ebb0882a44ad96e177b7fffe16a0"
  },
  "language_info": {
   "codemirror_mode": {
    "name": "ipython",
    "version": 3
   },
   "file_extension": ".py",
   "mimetype": "text/x-python",
   "name": "python",
   "nbconvert_exporter": "python",
   "pygments_lexer": "ipython3",
   "version": "3.6.9"
  }
 },
 "nbformat": 4,
 "nbformat_minor": 4
}
